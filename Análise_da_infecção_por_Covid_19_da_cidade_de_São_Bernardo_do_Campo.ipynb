{
  "nbformat": 4,
  "nbformat_minor": 0,
  "metadata": {
    "colab": {
      "name": "Análise da infecção por Covid - 19 da cidade de São Bernardo do Campo",
      "provenance": [],
      "collapsed_sections": []
    },
    "kernelspec": {
      "name": "python3",
      "display_name": "Python 3"
    }
  },
  "cells": [
    {
      "cell_type": "markdown",
      "metadata": {
        "id": "-krQ2FyfIh19"
      },
      "source": [
        "# Título: Análise da infecção por Covid - 19 da cidade de São Bernardo do Campo\n",
        "\n",
        "## Objetivo:\n",
        "\n",
        "O objetivo do projeto é obter maior entendimento da situação da pandemia da Covid 19, para a cidade de São bernardo do Campo e a pergunta que desejo reponder é como se desenvolveu o tempo entre as mortes durante a pandemia? Foi alto? Foi baixo? Houve ocasiões com o período entre mortes muito baixo? E outras perguntas pertinentes relacionadas à informação tempo entre mortes."
      ]
    },
    {
      "cell_type": "markdown",
      "metadata": {
        "id": "Me76LqfqCyX8"
      },
      "source": [
        "## Bases de Dados:"
      ]
    },
    {
      "cell_type": "markdown",
      "metadata": {
        "id": "uNSqI6x_s0iS"
      },
      "source": [
        "A base foi adquirida no site do govero brasileiro: https://brasil.io/dataset/covid19/caso/?search=&date=&state=&city=S%C3%A3o+Bernardo+do+Campo&place_type=&is_last=&city_ibge_code=&order_for_place=.\n",
        "\n",
        "E está sendo armazenado no google drive: https://drive.google.com/file/d/1eEc3zUaHIWWOeEwnIEIAEWLtJNxaNIZT/view?usp=sharing.\n",
        "\n",
        "\n",
        "Abaixo a um exemplo da base de dados, organizada em forma de tabela e com apenas 5 registros, pois o comando 'head()' foi utilizado."
      ]
    },
    {
      "cell_type": "code",
      "metadata": {
        "id": "Qu1-CNZvp4zi",
        "colab": {
          "base_uri": "https://localhost:8080/",
          "height": 206
        },
        "outputId": "11228080-3ed8-4b28-8192-dfd0faf9a770"
      },
      "source": [
        "import pandas as pd\n",
        "codigo = '1eEc3zUaHIWWOeEwnIEIAEWLtJNxaNIZT'\n",
        "file = \"https://drive.google.com/u/3/uc?id=\" + codigo + '&export=download'\n",
        "df = pd.read_csv(file)\n",
        "df.head()"
      ],
      "execution_count": 1,
      "outputs": [
        {
          "output_type": "execute_result",
          "data": {
            "text/plain": [
              "         date state                   city place_type  confirmed  deaths  \\\n",
              "0  2020-11-28    SP  São Bernardo do Campo       city      29316    1031   \n",
              "1  2020-11-27    SP  São Bernardo do Campo       city      29207    1029   \n",
              "2  2020-11-26    SP  São Bernardo do Campo       city      29121    1028   \n",
              "3  2020-11-25    SP  São Bernardo do Campo       city      29007    1024   \n",
              "4  2020-11-24    SP  São Bernardo do Campo       city      28832    1021   \n",
              "\n",
              "   is_last  estimated_population  city_ibge_code  \\\n",
              "0     True                844483         3548708   \n",
              "1    False                844483         3548708   \n",
              "2    False                844483         3548708   \n",
              "3    False                844483         3548708   \n",
              "4    False                844483         3548708   \n",
              "\n",
              "   confirmed_per_100k_inhabitants  death_rate  \n",
              "0                      3471.47308      0.0352  \n",
              "1                      3458.56577      0.0352  \n",
              "2                      3448.38203      0.0353  \n",
              "3                      3434.88264      0.0353  \n",
              "4                      3414.15991      0.0354  "
            ],
            "text/html": [
              "\n",
              "  <div id=\"df-c350414d-69f1-4797-ba19-31ed80c61fd3\">\n",
              "    <div class=\"colab-df-container\">\n",
              "      <div>\n",
              "<style scoped>\n",
              "    .dataframe tbody tr th:only-of-type {\n",
              "        vertical-align: middle;\n",
              "    }\n",
              "\n",
              "    .dataframe tbody tr th {\n",
              "        vertical-align: top;\n",
              "    }\n",
              "\n",
              "    .dataframe thead th {\n",
              "        text-align: right;\n",
              "    }\n",
              "</style>\n",
              "<table border=\"1\" class=\"dataframe\">\n",
              "  <thead>\n",
              "    <tr style=\"text-align: right;\">\n",
              "      <th></th>\n",
              "      <th>date</th>\n",
              "      <th>state</th>\n",
              "      <th>city</th>\n",
              "      <th>place_type</th>\n",
              "      <th>confirmed</th>\n",
              "      <th>deaths</th>\n",
              "      <th>is_last</th>\n",
              "      <th>estimated_population</th>\n",
              "      <th>city_ibge_code</th>\n",
              "      <th>confirmed_per_100k_inhabitants</th>\n",
              "      <th>death_rate</th>\n",
              "    </tr>\n",
              "  </thead>\n",
              "  <tbody>\n",
              "    <tr>\n",
              "      <th>0</th>\n",
              "      <td>2020-11-28</td>\n",
              "      <td>SP</td>\n",
              "      <td>São Bernardo do Campo</td>\n",
              "      <td>city</td>\n",
              "      <td>29316</td>\n",
              "      <td>1031</td>\n",
              "      <td>True</td>\n",
              "      <td>844483</td>\n",
              "      <td>3548708</td>\n",
              "      <td>3471.47308</td>\n",
              "      <td>0.0352</td>\n",
              "    </tr>\n",
              "    <tr>\n",
              "      <th>1</th>\n",
              "      <td>2020-11-27</td>\n",
              "      <td>SP</td>\n",
              "      <td>São Bernardo do Campo</td>\n",
              "      <td>city</td>\n",
              "      <td>29207</td>\n",
              "      <td>1029</td>\n",
              "      <td>False</td>\n",
              "      <td>844483</td>\n",
              "      <td>3548708</td>\n",
              "      <td>3458.56577</td>\n",
              "      <td>0.0352</td>\n",
              "    </tr>\n",
              "    <tr>\n",
              "      <th>2</th>\n",
              "      <td>2020-11-26</td>\n",
              "      <td>SP</td>\n",
              "      <td>São Bernardo do Campo</td>\n",
              "      <td>city</td>\n",
              "      <td>29121</td>\n",
              "      <td>1028</td>\n",
              "      <td>False</td>\n",
              "      <td>844483</td>\n",
              "      <td>3548708</td>\n",
              "      <td>3448.38203</td>\n",
              "      <td>0.0353</td>\n",
              "    </tr>\n",
              "    <tr>\n",
              "      <th>3</th>\n",
              "      <td>2020-11-25</td>\n",
              "      <td>SP</td>\n",
              "      <td>São Bernardo do Campo</td>\n",
              "      <td>city</td>\n",
              "      <td>29007</td>\n",
              "      <td>1024</td>\n",
              "      <td>False</td>\n",
              "      <td>844483</td>\n",
              "      <td>3548708</td>\n",
              "      <td>3434.88264</td>\n",
              "      <td>0.0353</td>\n",
              "    </tr>\n",
              "    <tr>\n",
              "      <th>4</th>\n",
              "      <td>2020-11-24</td>\n",
              "      <td>SP</td>\n",
              "      <td>São Bernardo do Campo</td>\n",
              "      <td>city</td>\n",
              "      <td>28832</td>\n",
              "      <td>1021</td>\n",
              "      <td>False</td>\n",
              "      <td>844483</td>\n",
              "      <td>3548708</td>\n",
              "      <td>3414.15991</td>\n",
              "      <td>0.0354</td>\n",
              "    </tr>\n",
              "  </tbody>\n",
              "</table>\n",
              "</div>\n",
              "      <button class=\"colab-df-convert\" onclick=\"convertToInteractive('df-c350414d-69f1-4797-ba19-31ed80c61fd3')\"\n",
              "              title=\"Convert this dataframe to an interactive table.\"\n",
              "              style=\"display:none;\">\n",
              "        \n",
              "  <svg xmlns=\"http://www.w3.org/2000/svg\" height=\"24px\"viewBox=\"0 0 24 24\"\n",
              "       width=\"24px\">\n",
              "    <path d=\"M0 0h24v24H0V0z\" fill=\"none\"/>\n",
              "    <path d=\"M18.56 5.44l.94 2.06.94-2.06 2.06-.94-2.06-.94-.94-2.06-.94 2.06-2.06.94zm-11 1L8.5 8.5l.94-2.06 2.06-.94-2.06-.94L8.5 2.5l-.94 2.06-2.06.94zm10 10l.94 2.06.94-2.06 2.06-.94-2.06-.94-.94-2.06-.94 2.06-2.06.94z\"/><path d=\"M17.41 7.96l-1.37-1.37c-.4-.4-.92-.59-1.43-.59-.52 0-1.04.2-1.43.59L10.3 9.45l-7.72 7.72c-.78.78-.78 2.05 0 2.83L4 21.41c.39.39.9.59 1.41.59.51 0 1.02-.2 1.41-.59l7.78-7.78 2.81-2.81c.8-.78.8-2.07 0-2.86zM5.41 20L4 18.59l7.72-7.72 1.47 1.35L5.41 20z\"/>\n",
              "  </svg>\n",
              "      </button>\n",
              "      \n",
              "  <style>\n",
              "    .colab-df-container {\n",
              "      display:flex;\n",
              "      flex-wrap:wrap;\n",
              "      gap: 12px;\n",
              "    }\n",
              "\n",
              "    .colab-df-convert {\n",
              "      background-color: #E8F0FE;\n",
              "      border: none;\n",
              "      border-radius: 50%;\n",
              "      cursor: pointer;\n",
              "      display: none;\n",
              "      fill: #1967D2;\n",
              "      height: 32px;\n",
              "      padding: 0 0 0 0;\n",
              "      width: 32px;\n",
              "    }\n",
              "\n",
              "    .colab-df-convert:hover {\n",
              "      background-color: #E2EBFA;\n",
              "      box-shadow: 0px 1px 2px rgba(60, 64, 67, 0.3), 0px 1px 3px 1px rgba(60, 64, 67, 0.15);\n",
              "      fill: #174EA6;\n",
              "    }\n",
              "\n",
              "    [theme=dark] .colab-df-convert {\n",
              "      background-color: #3B4455;\n",
              "      fill: #D2E3FC;\n",
              "    }\n",
              "\n",
              "    [theme=dark] .colab-df-convert:hover {\n",
              "      background-color: #434B5C;\n",
              "      box-shadow: 0px 1px 3px 1px rgba(0, 0, 0, 0.15);\n",
              "      filter: drop-shadow(0px 1px 2px rgba(0, 0, 0, 0.3));\n",
              "      fill: #FFFFFF;\n",
              "    }\n",
              "  </style>\n",
              "\n",
              "      <script>\n",
              "        const buttonEl =\n",
              "          document.querySelector('#df-c350414d-69f1-4797-ba19-31ed80c61fd3 button.colab-df-convert');\n",
              "        buttonEl.style.display =\n",
              "          google.colab.kernel.accessAllowed ? 'block' : 'none';\n",
              "\n",
              "        async function convertToInteractive(key) {\n",
              "          const element = document.querySelector('#df-c350414d-69f1-4797-ba19-31ed80c61fd3');\n",
              "          const dataTable =\n",
              "            await google.colab.kernel.invokeFunction('convertToInteractive',\n",
              "                                                     [key], {});\n",
              "          if (!dataTable) return;\n",
              "\n",
              "          const docLinkHtml = 'Like what you see? Visit the ' +\n",
              "            '<a target=\"_blank\" href=https://colab.research.google.com/notebooks/data_table.ipynb>data table notebook</a>'\n",
              "            + ' to learn more about interactive tables.';\n",
              "          element.innerHTML = '';\n",
              "          dataTable['output_type'] = 'display_data';\n",
              "          await google.colab.output.renderOutput(dataTable, element);\n",
              "          const docLink = document.createElement('div');\n",
              "          docLink.innerHTML = docLinkHtml;\n",
              "          element.appendChild(docLink);\n",
              "        }\n",
              "      </script>\n",
              "    </div>\n",
              "  </div>\n",
              "  "
            ]
          },
          "metadata": {},
          "execution_count": 1
        }
      ]
    },
    {
      "cell_type": "markdown",
      "metadata": {
        "id": "BGYMpV8E9l_S"
      },
      "source": [
        "Abaixo está uma lista com todas as colunas da base de dados, obtidas por meio o comando 'columns':"
      ]
    },
    {
      "cell_type": "code",
      "metadata": {
        "colab": {
          "base_uri": "https://localhost:8080/"
        },
        "id": "CQnf8Dqm9ulQ",
        "outputId": "5f4e9087-1ba8-4c7e-ba96-c3432e393c41"
      },
      "source": [
        "for a in df.columns:\n",
        "  print(a)\n",
        "bd = df[['date', 'confirmed', 'deaths', 'estimated_population', 'confirmed_per_100k_inhabitants', 'death_rate']].copy()"
      ],
      "execution_count": 2,
      "outputs": [
        {
          "output_type": "stream",
          "name": "stdout",
          "text": [
            "date\n",
            "state\n",
            "city\n",
            "place_type\n",
            "confirmed\n",
            "deaths\n",
            "is_last\n",
            "estimated_population\n",
            "city_ibge_code\n",
            "confirmed_per_100k_inhabitants\n",
            "death_rate\n"
          ]
        }
      ]
    },
    {
      "cell_type": "markdown",
      "metadata": {
        "id": "33LYqlzo-y4f"
      },
      "source": [
        "As colunas mais relevantes para nosso estudo estão a seguir:\n",
        "\n",
        "**date** (data): data em que as informações foram registradas.\n",
        "\n",
        "**confirmed** (confirmados): número de casos confirmados de covid-19 até o momento.\n",
        "\n",
        "**deaths** (mortes): número de mortes apuradas por covid-19 até o momento.\n",
        "\n",
        "**estimated_population** (população estimada): poupulação estimada da cidade de São Bernardo do Campo.\n",
        "\n",
        "**confirmed_per_100k_inhabitants** (número de casos confirmados para cada 100 mil habitantes): Valor de casos confirmados para cada cem mil habitantes, dado descoberto por meio da divisão do número de casos confirmados pela população estimada e após isso a multiplicação por 100 mil.\n",
        "\n",
        "**death_rate** (taxa de morte): taxa de morte, razão do número de mortes pelo número de casos confirmados."
      ]
    },
    {
      "cell_type": "code",
      "metadata": {
        "colab": {
          "base_uri": "https://localhost:8080/"
        },
        "id": "3-0vNivoFRJS",
        "outputId": "80ce4287-213f-445d-ae8a-585d78c9efcd"
      },
      "source": [
        "df.shape"
      ],
      "execution_count": 3,
      "outputs": [
        {
          "output_type": "execute_result",
          "data": {
            "text/plain": [
              "(238, 11)"
            ]
          },
          "metadata": {},
          "execution_count": 3
        }
      ]
    },
    {
      "cell_type": "markdown",
      "metadata": {
        "id": "JAwECcY-GZ6Q"
      },
      "source": [
        "Acima podemos ver o tamanho da tabela, ela possui 11 colunas e 238 registros.\n",
        "\n",
        "E abaixo utilizamos o comando 'info()' para encontrar o número de dados que cada coluna possui, bem como o tipo do dado, por exemplo a coluna de índice 3, estimated_population, possui 238 dados do tipo int64, ou seja, são números inteiros.\n",
        "\n"
      ]
    },
    {
      "cell_type": "code",
      "metadata": {
        "colab": {
          "base_uri": "https://localhost:8080/"
        },
        "id": "pGkk7ul3G2Nr",
        "outputId": "2cc5b7f0-aa77-4721-cc02-c01f49672c74"
      },
      "source": [
        "bd.info()"
      ],
      "execution_count": 4,
      "outputs": [
        {
          "output_type": "stream",
          "name": "stdout",
          "text": [
            "<class 'pandas.core.frame.DataFrame'>\n",
            "RangeIndex: 238 entries, 0 to 237\n",
            "Data columns (total 6 columns):\n",
            " #   Column                          Non-Null Count  Dtype  \n",
            "---  ------                          --------------  -----  \n",
            " 0   date                            238 non-null    object \n",
            " 1   confirmed                       238 non-null    int64  \n",
            " 2   deaths                          238 non-null    int64  \n",
            " 3   estimated_population            238 non-null    int64  \n",
            " 4   confirmed_per_100k_inhabitants  238 non-null    float64\n",
            " 5   death_rate                      238 non-null    float64\n",
            "dtypes: float64(2), int64(3), object(1)\n",
            "memory usage: 11.3+ KB\n"
          ]
        }
      ]
    },
    {
      "cell_type": "markdown",
      "metadata": {
        "id": "OgU7oJOQp5_c"
      },
      "source": [
        "## Manipulação de Dados:\n",
        "Ideias: mortes por hora e a relação entre feriados e o crescimento de casos\n"
      ]
    },
    {
      "cell_type": "markdown",
      "metadata": {
        "id": "p5DQYRDtM5Ji"
      },
      "source": [
        "**1 - Criação da coluna 'Mes'**"
      ]
    },
    {
      "cell_type": "code",
      "metadata": {
        "id": "pE3Ig3NvLZs-"
      },
      "source": [
        "for a in range(bd.shape[0]):\n",
        "  bd.loc[a, 'Mes'] = int(bd['date'][a][5:7])"
      ],
      "execution_count": 5,
      "outputs": []
    },
    {
      "cell_type": "markdown",
      "metadata": {
        "id": "BZyGOFdYV8Sl"
      },
      "source": [
        "O código acima foi feito utilizando o comando de repetição 'for' e o comando 'loc[]', que é responsável por adicionar valores em uma coluna."
      ]
    },
    {
      "cell_type": "markdown",
      "metadata": {
        "id": "HgCPBeVb0PYY"
      },
      "source": [
        "**2 - Criação da coluna 'dias_corridos'**\n",
        "\n",
        "A coluna 'dias_corridos' será utilizada na criação das próximas colunas e ela nos dará a informação de quantos dias se passaram entre o início da base de dados até hoje.\n",
        "\n",
        "Nela foram utilizados os comandos 'date()' e 'timedelta()', afim de organizar e aumentar os dias e o comando de repetição 'while' com condição 'True', algo que cria um loop infinito, quebrado pelo comando 'break' dentro de um comando de seleção 'if'."
      ]
    },
    {
      "cell_type": "code",
      "metadata": {
        "colab": {
          "base_uri": "https://localhost:8080/"
        },
        "id": "5d-5NZjm13yD",
        "outputId": "8657c14c-90d9-457f-ecef-11aa181f59d4"
      },
      "source": [
        "from datetime import date, timedelta\n",
        "primdia = date(int(bd['date'][bd.shape[0]-1][:4]),int(bd['date'][bd.shape[0]-1][5:7]),int(bd['date'][bd.shape[0]-1][8:]))\n",
        "ultdia = date(int(bd['date'][0][:4]),int(bd['date'][0][5:7]),int(bd['date'][0][8:]))\n",
        "dias = primdia\n",
        "num = 0\n",
        "for a in range(bd.shape[0]-1,-1,-1):\n",
        "  adata = date(int(bd['date'][a][:4]),int(bd['date'][a][5:7]),int(bd['date'][a][8:]))\n",
        "  while True:\n",
        "    if adata == dias + timedelta(days = num):\n",
        "      bd.loc[a, 'dias_corridos'] = num +1\n",
        "      break\n",
        "    num += 1\n",
        "print('Dias corridos desde o início da pandemia:', bd.dias_corridos[0], '. Considerando o dia', bd.date[0], 'como o último dia.')"
      ],
      "execution_count": 6,
      "outputs": [
        {
          "output_type": "stream",
          "name": "stdout",
          "text": [
            "Dias corridos desde o início da pandemia: 258.0 . Considerando o dia 2020-11-28 como o último dia.\n"
          ]
        }
      ]
    },
    {
      "cell_type": "markdown",
      "metadata": {
        "id": "r8AeWCLfNZ44"
      },
      "source": [
        "**3 - Criação das colunas 'mortes_por_hora' e 'tempo_por_morte'**"
      ]
    },
    {
      "cell_type": "markdown",
      "metadata": {
        "id": "joA-Np9LVpTO"
      },
      "source": [
        "Essas colunas serão utilizadas para descobrimos o tempo que leva para uma morte, devido à covid 19, ocorrer na cidade de São Bernardo do Campo."
      ]
    },
    {
      "cell_type": "code",
      "metadata": {
        "id": "act-4pFfNo-s"
      },
      "source": [
        "for a in range(bd.confirmed.count()-1, -1, -1):\n",
        "  if a != bd.confirmed.count() - 1:\n",
        "    mortes = 0\n",
        "    dias_corridos = 0\n",
        "    for b in range(bd.deaths.count()-2,a,-1):\n",
        "      if bd.deaths[b] > bd.deaths[b+1]:\n",
        "        mortes = bd.deaths[b]\n",
        "        dias_corridos = bd.dias_corridos[b]\n",
        "\n",
        "    bd.loc[a,'mortes_por_hora'] = (bd.loc[a,'deaths'] - mortes)  / (bd.loc[a,'dias_corridos'] - dias_corridos) / 24\n",
        "    if bd.loc[a,'mortes_por_hora'] != 0:\n",
        "      bd.loc[a,'tempo_por_morte'] = round(1 / bd.loc[a,'mortes_por_hora'],2) \n",
        "  else:\n",
        "    bd.loc[a,'mortes_por_hora'] = 0"
      ],
      "execution_count": 7,
      "outputs": []
    },
    {
      "cell_type": "markdown",
      "metadata": {
        "id": "3jw5h2etWPdz"
      },
      "source": [
        "Além dos comandos já explicados anteriormente, o código acima foi feito utilizando estruturas de seleção 'if' e 'else' de forma simplificada. E uma alteração teve de ser feita no valor do 'tempo_por_morte', o que mudou seu valor de infinito para 'NaN' em alguns registros, pois no caso de o valor de 'mortes_por_hora' ser nulo o valor de 'tempo_por_morte' será infinito, ou seja, não ouve mortes dentro daquele período.\n",
        "\n",
        "E o problema está em justamente os valores serem infinitos, pois alteram as medidas de tendência Central e dispersão, logo consideramos os valores como nulos\n"
      ]
    },
    {
      "cell_type": "markdown",
      "metadata": {
        "id": "CpH6jFahXb2_"
      },
      "source": [
        "**4 - Visualização da tabela com suas novas colunas**\n",
        "\n",
        "A tabela abaixo está reduzida e com registros espaçados, o que pode ser verificado na esquerda da tabela pelos índices. Tal alteração foi feita para ampliar o entendimento das novas colunas, por meio de mais dados."
      ]
    },
    {
      "cell_type": "code",
      "metadata": {
        "colab": {
          "base_uri": "https://localhost:8080/",
          "height": 802
        },
        "id": "S2LFx5ouFrqr",
        "outputId": "7d936548-a06d-4444-a6ab-3430b4b25b8c"
      },
      "source": [
        "bd[::10]"
      ],
      "execution_count": 8,
      "outputs": [
        {
          "output_type": "execute_result",
          "data": {
            "text/plain": [
              "           date  confirmed  deaths  estimated_population  \\\n",
              "0    2020-11-28      29316    1031                844483   \n",
              "10   2020-11-17      28018    1002                844483   \n",
              "20   2020-11-03      26868     983                844483   \n",
              "30   2020-10-23      26257     973                844483   \n",
              "40   2020-10-10      25374     943                844483   \n",
              "50   2020-09-27      24542     904                844483   \n",
              "60   2020-09-17      23795     855                844483   \n",
              "70   2020-09-06      22908     807                844483   \n",
              "80   2020-08-26      21039     756                844483   \n",
              "90   2020-08-16      19601     711                844483   \n",
              "100  2020-08-06      17594     650                844483   \n",
              "110  2020-07-27      14460     600                844483   \n",
              "120  2020-07-17      11088     543                844483   \n",
              "130  2020-07-07       9637     439                844483   \n",
              "140  2020-06-27       7271     359                844483   \n",
              "150  2020-06-17       4902     309                844483   \n",
              "160  2020-06-07       3533     234                844483   \n",
              "170  2020-05-28       2355     203                844483   \n",
              "180  2020-05-18       1469     120                844483   \n",
              "190  2020-05-08       1017      81                844483   \n",
              "200  2020-04-28        566      36                844483   \n",
              "210  2020-04-18        294      20                844483   \n",
              "220  2020-04-08        147       7                844483   \n",
              "230  2020-03-27         15       0                844483   \n",
              "\n",
              "     confirmed_per_100k_inhabitants  death_rate   Mes  dias_corridos  \\\n",
              "0                        3471.47308      0.0352  11.0          258.0   \n",
              "10                       3317.76957      0.0358  11.0          247.0   \n",
              "20                       3181.59158      0.0366  11.0          233.0   \n",
              "30                       3109.23962      0.0371  10.0          222.0   \n",
              "40                       3004.67860      0.0372  10.0          209.0   \n",
              "50                       2906.15678      0.0368   9.0          196.0   \n",
              "60                       2817.70030      0.0359   9.0          186.0   \n",
              "70                       2712.66562      0.0352   9.0          175.0   \n",
              "80                       2491.34678      0.0359   8.0          164.0   \n",
              "90                       2321.06508      0.0363   8.0          154.0   \n",
              "100                      2083.40488      0.0369   8.0          144.0   \n",
              "110                      1712.29024      0.0415   7.0          134.0   \n",
              "120                      1312.99268      0.0490   7.0          124.0   \n",
              "130                      1141.17158      0.0456   7.0          114.0   \n",
              "140                       861.00016      0.0494   6.0          104.0   \n",
              "150                       580.47350      0.0630   6.0           94.0   \n",
              "160                       418.36248      0.0662   6.0           84.0   \n",
              "170                       278.86885      0.0862   5.0           74.0   \n",
              "180                       173.95258      0.0817   5.0           64.0   \n",
              "190                       120.42871      0.0796   5.0           54.0   \n",
              "200                        67.02326      0.0636   4.0           44.0   \n",
              "210                        34.81420      0.0680   4.0           34.0   \n",
              "220                        17.40710      0.0476   4.0           24.0   \n",
              "230                         1.77623      0.0000   3.0           12.0   \n",
              "\n",
              "     mortes_por_hora  tempo_por_morte  \n",
              "0           0.083333            12.00  \n",
              "10          0.033333            30.00  \n",
              "20          0.000000              NaN  \n",
              "30          0.166667             6.00  \n",
              "40          0.166667             6.00  \n",
              "50          0.000000              NaN  \n",
              "60          0.083333            12.00  \n",
              "70          0.041667            24.00  \n",
              "80         -0.041667           -24.00  \n",
              "90          0.708333             1.41  \n",
              "100         0.041667            24.00  \n",
              "110         0.000000              NaN  \n",
              "120         0.458333             2.18  \n",
              "130         0.062500            16.00  \n",
              "140         0.166667             6.00  \n",
              "150         0.583333             1.71  \n",
              "160         0.041667            24.00  \n",
              "170         0.208333             4.80  \n",
              "180         0.000000              NaN  \n",
              "190         0.291667             3.43  \n",
              "200         0.041667            24.00  \n",
              "210         0.125000             8.00  \n",
              "220         0.041667            24.00  \n",
              "230         0.000000              NaN  "
            ],
            "text/html": [
              "\n",
              "  <div id=\"df-ead67fb0-eeff-43df-9f4f-92887d2660cb\">\n",
              "    <div class=\"colab-df-container\">\n",
              "      <div>\n",
              "<style scoped>\n",
              "    .dataframe tbody tr th:only-of-type {\n",
              "        vertical-align: middle;\n",
              "    }\n",
              "\n",
              "    .dataframe tbody tr th {\n",
              "        vertical-align: top;\n",
              "    }\n",
              "\n",
              "    .dataframe thead th {\n",
              "        text-align: right;\n",
              "    }\n",
              "</style>\n",
              "<table border=\"1\" class=\"dataframe\">\n",
              "  <thead>\n",
              "    <tr style=\"text-align: right;\">\n",
              "      <th></th>\n",
              "      <th>date</th>\n",
              "      <th>confirmed</th>\n",
              "      <th>deaths</th>\n",
              "      <th>estimated_population</th>\n",
              "      <th>confirmed_per_100k_inhabitants</th>\n",
              "      <th>death_rate</th>\n",
              "      <th>Mes</th>\n",
              "      <th>dias_corridos</th>\n",
              "      <th>mortes_por_hora</th>\n",
              "      <th>tempo_por_morte</th>\n",
              "    </tr>\n",
              "  </thead>\n",
              "  <tbody>\n",
              "    <tr>\n",
              "      <th>0</th>\n",
              "      <td>2020-11-28</td>\n",
              "      <td>29316</td>\n",
              "      <td>1031</td>\n",
              "      <td>844483</td>\n",
              "      <td>3471.47308</td>\n",
              "      <td>0.0352</td>\n",
              "      <td>11.0</td>\n",
              "      <td>258.0</td>\n",
              "      <td>0.083333</td>\n",
              "      <td>12.00</td>\n",
              "    </tr>\n",
              "    <tr>\n",
              "      <th>10</th>\n",
              "      <td>2020-11-17</td>\n",
              "      <td>28018</td>\n",
              "      <td>1002</td>\n",
              "      <td>844483</td>\n",
              "      <td>3317.76957</td>\n",
              "      <td>0.0358</td>\n",
              "      <td>11.0</td>\n",
              "      <td>247.0</td>\n",
              "      <td>0.033333</td>\n",
              "      <td>30.00</td>\n",
              "    </tr>\n",
              "    <tr>\n",
              "      <th>20</th>\n",
              "      <td>2020-11-03</td>\n",
              "      <td>26868</td>\n",
              "      <td>983</td>\n",
              "      <td>844483</td>\n",
              "      <td>3181.59158</td>\n",
              "      <td>0.0366</td>\n",
              "      <td>11.0</td>\n",
              "      <td>233.0</td>\n",
              "      <td>0.000000</td>\n",
              "      <td>NaN</td>\n",
              "    </tr>\n",
              "    <tr>\n",
              "      <th>30</th>\n",
              "      <td>2020-10-23</td>\n",
              "      <td>26257</td>\n",
              "      <td>973</td>\n",
              "      <td>844483</td>\n",
              "      <td>3109.23962</td>\n",
              "      <td>0.0371</td>\n",
              "      <td>10.0</td>\n",
              "      <td>222.0</td>\n",
              "      <td>0.166667</td>\n",
              "      <td>6.00</td>\n",
              "    </tr>\n",
              "    <tr>\n",
              "      <th>40</th>\n",
              "      <td>2020-10-10</td>\n",
              "      <td>25374</td>\n",
              "      <td>943</td>\n",
              "      <td>844483</td>\n",
              "      <td>3004.67860</td>\n",
              "      <td>0.0372</td>\n",
              "      <td>10.0</td>\n",
              "      <td>209.0</td>\n",
              "      <td>0.166667</td>\n",
              "      <td>6.00</td>\n",
              "    </tr>\n",
              "    <tr>\n",
              "      <th>50</th>\n",
              "      <td>2020-09-27</td>\n",
              "      <td>24542</td>\n",
              "      <td>904</td>\n",
              "      <td>844483</td>\n",
              "      <td>2906.15678</td>\n",
              "      <td>0.0368</td>\n",
              "      <td>9.0</td>\n",
              "      <td>196.0</td>\n",
              "      <td>0.000000</td>\n",
              "      <td>NaN</td>\n",
              "    </tr>\n",
              "    <tr>\n",
              "      <th>60</th>\n",
              "      <td>2020-09-17</td>\n",
              "      <td>23795</td>\n",
              "      <td>855</td>\n",
              "      <td>844483</td>\n",
              "      <td>2817.70030</td>\n",
              "      <td>0.0359</td>\n",
              "      <td>9.0</td>\n",
              "      <td>186.0</td>\n",
              "      <td>0.083333</td>\n",
              "      <td>12.00</td>\n",
              "    </tr>\n",
              "    <tr>\n",
              "      <th>70</th>\n",
              "      <td>2020-09-06</td>\n",
              "      <td>22908</td>\n",
              "      <td>807</td>\n",
              "      <td>844483</td>\n",
              "      <td>2712.66562</td>\n",
              "      <td>0.0352</td>\n",
              "      <td>9.0</td>\n",
              "      <td>175.0</td>\n",
              "      <td>0.041667</td>\n",
              "      <td>24.00</td>\n",
              "    </tr>\n",
              "    <tr>\n",
              "      <th>80</th>\n",
              "      <td>2020-08-26</td>\n",
              "      <td>21039</td>\n",
              "      <td>756</td>\n",
              "      <td>844483</td>\n",
              "      <td>2491.34678</td>\n",
              "      <td>0.0359</td>\n",
              "      <td>8.0</td>\n",
              "      <td>164.0</td>\n",
              "      <td>-0.041667</td>\n",
              "      <td>-24.00</td>\n",
              "    </tr>\n",
              "    <tr>\n",
              "      <th>90</th>\n",
              "      <td>2020-08-16</td>\n",
              "      <td>19601</td>\n",
              "      <td>711</td>\n",
              "      <td>844483</td>\n",
              "      <td>2321.06508</td>\n",
              "      <td>0.0363</td>\n",
              "      <td>8.0</td>\n",
              "      <td>154.0</td>\n",
              "      <td>0.708333</td>\n",
              "      <td>1.41</td>\n",
              "    </tr>\n",
              "    <tr>\n",
              "      <th>100</th>\n",
              "      <td>2020-08-06</td>\n",
              "      <td>17594</td>\n",
              "      <td>650</td>\n",
              "      <td>844483</td>\n",
              "      <td>2083.40488</td>\n",
              "      <td>0.0369</td>\n",
              "      <td>8.0</td>\n",
              "      <td>144.0</td>\n",
              "      <td>0.041667</td>\n",
              "      <td>24.00</td>\n",
              "    </tr>\n",
              "    <tr>\n",
              "      <th>110</th>\n",
              "      <td>2020-07-27</td>\n",
              "      <td>14460</td>\n",
              "      <td>600</td>\n",
              "      <td>844483</td>\n",
              "      <td>1712.29024</td>\n",
              "      <td>0.0415</td>\n",
              "      <td>7.0</td>\n",
              "      <td>134.0</td>\n",
              "      <td>0.000000</td>\n",
              "      <td>NaN</td>\n",
              "    </tr>\n",
              "    <tr>\n",
              "      <th>120</th>\n",
              "      <td>2020-07-17</td>\n",
              "      <td>11088</td>\n",
              "      <td>543</td>\n",
              "      <td>844483</td>\n",
              "      <td>1312.99268</td>\n",
              "      <td>0.0490</td>\n",
              "      <td>7.0</td>\n",
              "      <td>124.0</td>\n",
              "      <td>0.458333</td>\n",
              "      <td>2.18</td>\n",
              "    </tr>\n",
              "    <tr>\n",
              "      <th>130</th>\n",
              "      <td>2020-07-07</td>\n",
              "      <td>9637</td>\n",
              "      <td>439</td>\n",
              "      <td>844483</td>\n",
              "      <td>1141.17158</td>\n",
              "      <td>0.0456</td>\n",
              "      <td>7.0</td>\n",
              "      <td>114.0</td>\n",
              "      <td>0.062500</td>\n",
              "      <td>16.00</td>\n",
              "    </tr>\n",
              "    <tr>\n",
              "      <th>140</th>\n",
              "      <td>2020-06-27</td>\n",
              "      <td>7271</td>\n",
              "      <td>359</td>\n",
              "      <td>844483</td>\n",
              "      <td>861.00016</td>\n",
              "      <td>0.0494</td>\n",
              "      <td>6.0</td>\n",
              "      <td>104.0</td>\n",
              "      <td>0.166667</td>\n",
              "      <td>6.00</td>\n",
              "    </tr>\n",
              "    <tr>\n",
              "      <th>150</th>\n",
              "      <td>2020-06-17</td>\n",
              "      <td>4902</td>\n",
              "      <td>309</td>\n",
              "      <td>844483</td>\n",
              "      <td>580.47350</td>\n",
              "      <td>0.0630</td>\n",
              "      <td>6.0</td>\n",
              "      <td>94.0</td>\n",
              "      <td>0.583333</td>\n",
              "      <td>1.71</td>\n",
              "    </tr>\n",
              "    <tr>\n",
              "      <th>160</th>\n",
              "      <td>2020-06-07</td>\n",
              "      <td>3533</td>\n",
              "      <td>234</td>\n",
              "      <td>844483</td>\n",
              "      <td>418.36248</td>\n",
              "      <td>0.0662</td>\n",
              "      <td>6.0</td>\n",
              "      <td>84.0</td>\n",
              "      <td>0.041667</td>\n",
              "      <td>24.00</td>\n",
              "    </tr>\n",
              "    <tr>\n",
              "      <th>170</th>\n",
              "      <td>2020-05-28</td>\n",
              "      <td>2355</td>\n",
              "      <td>203</td>\n",
              "      <td>844483</td>\n",
              "      <td>278.86885</td>\n",
              "      <td>0.0862</td>\n",
              "      <td>5.0</td>\n",
              "      <td>74.0</td>\n",
              "      <td>0.208333</td>\n",
              "      <td>4.80</td>\n",
              "    </tr>\n",
              "    <tr>\n",
              "      <th>180</th>\n",
              "      <td>2020-05-18</td>\n",
              "      <td>1469</td>\n",
              "      <td>120</td>\n",
              "      <td>844483</td>\n",
              "      <td>173.95258</td>\n",
              "      <td>0.0817</td>\n",
              "      <td>5.0</td>\n",
              "      <td>64.0</td>\n",
              "      <td>0.000000</td>\n",
              "      <td>NaN</td>\n",
              "    </tr>\n",
              "    <tr>\n",
              "      <th>190</th>\n",
              "      <td>2020-05-08</td>\n",
              "      <td>1017</td>\n",
              "      <td>81</td>\n",
              "      <td>844483</td>\n",
              "      <td>120.42871</td>\n",
              "      <td>0.0796</td>\n",
              "      <td>5.0</td>\n",
              "      <td>54.0</td>\n",
              "      <td>0.291667</td>\n",
              "      <td>3.43</td>\n",
              "    </tr>\n",
              "    <tr>\n",
              "      <th>200</th>\n",
              "      <td>2020-04-28</td>\n",
              "      <td>566</td>\n",
              "      <td>36</td>\n",
              "      <td>844483</td>\n",
              "      <td>67.02326</td>\n",
              "      <td>0.0636</td>\n",
              "      <td>4.0</td>\n",
              "      <td>44.0</td>\n",
              "      <td>0.041667</td>\n",
              "      <td>24.00</td>\n",
              "    </tr>\n",
              "    <tr>\n",
              "      <th>210</th>\n",
              "      <td>2020-04-18</td>\n",
              "      <td>294</td>\n",
              "      <td>20</td>\n",
              "      <td>844483</td>\n",
              "      <td>34.81420</td>\n",
              "      <td>0.0680</td>\n",
              "      <td>4.0</td>\n",
              "      <td>34.0</td>\n",
              "      <td>0.125000</td>\n",
              "      <td>8.00</td>\n",
              "    </tr>\n",
              "    <tr>\n",
              "      <th>220</th>\n",
              "      <td>2020-04-08</td>\n",
              "      <td>147</td>\n",
              "      <td>7</td>\n",
              "      <td>844483</td>\n",
              "      <td>17.40710</td>\n",
              "      <td>0.0476</td>\n",
              "      <td>4.0</td>\n",
              "      <td>24.0</td>\n",
              "      <td>0.041667</td>\n",
              "      <td>24.00</td>\n",
              "    </tr>\n",
              "    <tr>\n",
              "      <th>230</th>\n",
              "      <td>2020-03-27</td>\n",
              "      <td>15</td>\n",
              "      <td>0</td>\n",
              "      <td>844483</td>\n",
              "      <td>1.77623</td>\n",
              "      <td>0.0000</td>\n",
              "      <td>3.0</td>\n",
              "      <td>12.0</td>\n",
              "      <td>0.000000</td>\n",
              "      <td>NaN</td>\n",
              "    </tr>\n",
              "  </tbody>\n",
              "</table>\n",
              "</div>\n",
              "      <button class=\"colab-df-convert\" onclick=\"convertToInteractive('df-ead67fb0-eeff-43df-9f4f-92887d2660cb')\"\n",
              "              title=\"Convert this dataframe to an interactive table.\"\n",
              "              style=\"display:none;\">\n",
              "        \n",
              "  <svg xmlns=\"http://www.w3.org/2000/svg\" height=\"24px\"viewBox=\"0 0 24 24\"\n",
              "       width=\"24px\">\n",
              "    <path d=\"M0 0h24v24H0V0z\" fill=\"none\"/>\n",
              "    <path d=\"M18.56 5.44l.94 2.06.94-2.06 2.06-.94-2.06-.94-.94-2.06-.94 2.06-2.06.94zm-11 1L8.5 8.5l.94-2.06 2.06-.94-2.06-.94L8.5 2.5l-.94 2.06-2.06.94zm10 10l.94 2.06.94-2.06 2.06-.94-2.06-.94-.94-2.06-.94 2.06-2.06.94z\"/><path d=\"M17.41 7.96l-1.37-1.37c-.4-.4-.92-.59-1.43-.59-.52 0-1.04.2-1.43.59L10.3 9.45l-7.72 7.72c-.78.78-.78 2.05 0 2.83L4 21.41c.39.39.9.59 1.41.59.51 0 1.02-.2 1.41-.59l7.78-7.78 2.81-2.81c.8-.78.8-2.07 0-2.86zM5.41 20L4 18.59l7.72-7.72 1.47 1.35L5.41 20z\"/>\n",
              "  </svg>\n",
              "      </button>\n",
              "      \n",
              "  <style>\n",
              "    .colab-df-container {\n",
              "      display:flex;\n",
              "      flex-wrap:wrap;\n",
              "      gap: 12px;\n",
              "    }\n",
              "\n",
              "    .colab-df-convert {\n",
              "      background-color: #E8F0FE;\n",
              "      border: none;\n",
              "      border-radius: 50%;\n",
              "      cursor: pointer;\n",
              "      display: none;\n",
              "      fill: #1967D2;\n",
              "      height: 32px;\n",
              "      padding: 0 0 0 0;\n",
              "      width: 32px;\n",
              "    }\n",
              "\n",
              "    .colab-df-convert:hover {\n",
              "      background-color: #E2EBFA;\n",
              "      box-shadow: 0px 1px 2px rgba(60, 64, 67, 0.3), 0px 1px 3px 1px rgba(60, 64, 67, 0.15);\n",
              "      fill: #174EA6;\n",
              "    }\n",
              "\n",
              "    [theme=dark] .colab-df-convert {\n",
              "      background-color: #3B4455;\n",
              "      fill: #D2E3FC;\n",
              "    }\n",
              "\n",
              "    [theme=dark] .colab-df-convert:hover {\n",
              "      background-color: #434B5C;\n",
              "      box-shadow: 0px 1px 3px 1px rgba(0, 0, 0, 0.15);\n",
              "      filter: drop-shadow(0px 1px 2px rgba(0, 0, 0, 0.3));\n",
              "      fill: #FFFFFF;\n",
              "    }\n",
              "  </style>\n",
              "\n",
              "      <script>\n",
              "        const buttonEl =\n",
              "          document.querySelector('#df-ead67fb0-eeff-43df-9f4f-92887d2660cb button.colab-df-convert');\n",
              "        buttonEl.style.display =\n",
              "          google.colab.kernel.accessAllowed ? 'block' : 'none';\n",
              "\n",
              "        async function convertToInteractive(key) {\n",
              "          const element = document.querySelector('#df-ead67fb0-eeff-43df-9f4f-92887d2660cb');\n",
              "          const dataTable =\n",
              "            await google.colab.kernel.invokeFunction('convertToInteractive',\n",
              "                                                     [key], {});\n",
              "          if (!dataTable) return;\n",
              "\n",
              "          const docLinkHtml = 'Like what you see? Visit the ' +\n",
              "            '<a target=\"_blank\" href=https://colab.research.google.com/notebooks/data_table.ipynb>data table notebook</a>'\n",
              "            + ' to learn more about interactive tables.';\n",
              "          element.innerHTML = '';\n",
              "          dataTable['output_type'] = 'display_data';\n",
              "          await google.colab.output.renderOutput(dataTable, element);\n",
              "          const docLink = document.createElement('div');\n",
              "          docLink.innerHTML = docLinkHtml;\n",
              "          element.appendChild(docLink);\n",
              "        }\n",
              "      </script>\n",
              "    </div>\n",
              "  </div>\n",
              "  "
            ]
          },
          "metadata": {},
          "execution_count": 8
        }
      ]
    },
    {
      "cell_type": "markdown",
      "metadata": {
        "id": "gqUZav8tp90o"
      },
      "source": [
        "## Resultados Estatísticos:\n",
        "Descrever e implementar os resultados obtidos, principalmente incluindo gráficos.\n",
        "\n"
      ]
    },
    {
      "cell_type": "markdown",
      "metadata": {
        "id": "euMzUnjcYO92"
      },
      "source": [
        "**1 - Medidas de Tendência Central e Dispersão de ambas colunas criadas**"
      ]
    },
    {
      "cell_type": "code",
      "metadata": {
        "colab": {
          "base_uri": "https://localhost:8080/",
          "height": 300
        },
        "id": "eXX2sHcjLA2m",
        "outputId": "07bcee50-63a1-4ed8-d576-af77fc87ba1c"
      },
      "source": [
        "bd[['mortes_por_hora', 'tempo_por_morte']].describe()"
      ],
      "execution_count": 9,
      "outputs": [
        {
          "output_type": "execute_result",
          "data": {
            "text/plain": [
              "       mortes_por_hora  tempo_por_morte\n",
              "count       238.000000       180.000000\n",
              "mean          0.158021        13.319111\n",
              "std           0.188505        28.917867\n",
              "min          -0.083333       -24.000000\n",
              "25%           0.000694         3.000000\n",
              "50%           0.083333         6.000000\n",
              "75%           0.250000        16.000000\n",
              "max           0.958333       360.000000"
            ],
            "text/html": [
              "\n",
              "  <div id=\"df-7a81d1b9-b3b3-412d-b97d-c2efeec8a661\">\n",
              "    <div class=\"colab-df-container\">\n",
              "      <div>\n",
              "<style scoped>\n",
              "    .dataframe tbody tr th:only-of-type {\n",
              "        vertical-align: middle;\n",
              "    }\n",
              "\n",
              "    .dataframe tbody tr th {\n",
              "        vertical-align: top;\n",
              "    }\n",
              "\n",
              "    .dataframe thead th {\n",
              "        text-align: right;\n",
              "    }\n",
              "</style>\n",
              "<table border=\"1\" class=\"dataframe\">\n",
              "  <thead>\n",
              "    <tr style=\"text-align: right;\">\n",
              "      <th></th>\n",
              "      <th>mortes_por_hora</th>\n",
              "      <th>tempo_por_morte</th>\n",
              "    </tr>\n",
              "  </thead>\n",
              "  <tbody>\n",
              "    <tr>\n",
              "      <th>count</th>\n",
              "      <td>238.000000</td>\n",
              "      <td>180.000000</td>\n",
              "    </tr>\n",
              "    <tr>\n",
              "      <th>mean</th>\n",
              "      <td>0.158021</td>\n",
              "      <td>13.319111</td>\n",
              "    </tr>\n",
              "    <tr>\n",
              "      <th>std</th>\n",
              "      <td>0.188505</td>\n",
              "      <td>28.917867</td>\n",
              "    </tr>\n",
              "    <tr>\n",
              "      <th>min</th>\n",
              "      <td>-0.083333</td>\n",
              "      <td>-24.000000</td>\n",
              "    </tr>\n",
              "    <tr>\n",
              "      <th>25%</th>\n",
              "      <td>0.000694</td>\n",
              "      <td>3.000000</td>\n",
              "    </tr>\n",
              "    <tr>\n",
              "      <th>50%</th>\n",
              "      <td>0.083333</td>\n",
              "      <td>6.000000</td>\n",
              "    </tr>\n",
              "    <tr>\n",
              "      <th>75%</th>\n",
              "      <td>0.250000</td>\n",
              "      <td>16.000000</td>\n",
              "    </tr>\n",
              "    <tr>\n",
              "      <th>max</th>\n",
              "      <td>0.958333</td>\n",
              "      <td>360.000000</td>\n",
              "    </tr>\n",
              "  </tbody>\n",
              "</table>\n",
              "</div>\n",
              "      <button class=\"colab-df-convert\" onclick=\"convertToInteractive('df-7a81d1b9-b3b3-412d-b97d-c2efeec8a661')\"\n",
              "              title=\"Convert this dataframe to an interactive table.\"\n",
              "              style=\"display:none;\">\n",
              "        \n",
              "  <svg xmlns=\"http://www.w3.org/2000/svg\" height=\"24px\"viewBox=\"0 0 24 24\"\n",
              "       width=\"24px\">\n",
              "    <path d=\"M0 0h24v24H0V0z\" fill=\"none\"/>\n",
              "    <path d=\"M18.56 5.44l.94 2.06.94-2.06 2.06-.94-2.06-.94-.94-2.06-.94 2.06-2.06.94zm-11 1L8.5 8.5l.94-2.06 2.06-.94-2.06-.94L8.5 2.5l-.94 2.06-2.06.94zm10 10l.94 2.06.94-2.06 2.06-.94-2.06-.94-.94-2.06-.94 2.06-2.06.94z\"/><path d=\"M17.41 7.96l-1.37-1.37c-.4-.4-.92-.59-1.43-.59-.52 0-1.04.2-1.43.59L10.3 9.45l-7.72 7.72c-.78.78-.78 2.05 0 2.83L4 21.41c.39.39.9.59 1.41.59.51 0 1.02-.2 1.41-.59l7.78-7.78 2.81-2.81c.8-.78.8-2.07 0-2.86zM5.41 20L4 18.59l7.72-7.72 1.47 1.35L5.41 20z\"/>\n",
              "  </svg>\n",
              "      </button>\n",
              "      \n",
              "  <style>\n",
              "    .colab-df-container {\n",
              "      display:flex;\n",
              "      flex-wrap:wrap;\n",
              "      gap: 12px;\n",
              "    }\n",
              "\n",
              "    .colab-df-convert {\n",
              "      background-color: #E8F0FE;\n",
              "      border: none;\n",
              "      border-radius: 50%;\n",
              "      cursor: pointer;\n",
              "      display: none;\n",
              "      fill: #1967D2;\n",
              "      height: 32px;\n",
              "      padding: 0 0 0 0;\n",
              "      width: 32px;\n",
              "    }\n",
              "\n",
              "    .colab-df-convert:hover {\n",
              "      background-color: #E2EBFA;\n",
              "      box-shadow: 0px 1px 2px rgba(60, 64, 67, 0.3), 0px 1px 3px 1px rgba(60, 64, 67, 0.15);\n",
              "      fill: #174EA6;\n",
              "    }\n",
              "\n",
              "    [theme=dark] .colab-df-convert {\n",
              "      background-color: #3B4455;\n",
              "      fill: #D2E3FC;\n",
              "    }\n",
              "\n",
              "    [theme=dark] .colab-df-convert:hover {\n",
              "      background-color: #434B5C;\n",
              "      box-shadow: 0px 1px 3px 1px rgba(0, 0, 0, 0.15);\n",
              "      filter: drop-shadow(0px 1px 2px rgba(0, 0, 0, 0.3));\n",
              "      fill: #FFFFFF;\n",
              "    }\n",
              "  </style>\n",
              "\n",
              "      <script>\n",
              "        const buttonEl =\n",
              "          document.querySelector('#df-7a81d1b9-b3b3-412d-b97d-c2efeec8a661 button.colab-df-convert');\n",
              "        buttonEl.style.display =\n",
              "          google.colab.kernel.accessAllowed ? 'block' : 'none';\n",
              "\n",
              "        async function convertToInteractive(key) {\n",
              "          const element = document.querySelector('#df-7a81d1b9-b3b3-412d-b97d-c2efeec8a661');\n",
              "          const dataTable =\n",
              "            await google.colab.kernel.invokeFunction('convertToInteractive',\n",
              "                                                     [key], {});\n",
              "          if (!dataTable) return;\n",
              "\n",
              "          const docLinkHtml = 'Like what you see? Visit the ' +\n",
              "            '<a target=\"_blank\" href=https://colab.research.google.com/notebooks/data_table.ipynb>data table notebook</a>'\n",
              "            + ' to learn more about interactive tables.';\n",
              "          element.innerHTML = '';\n",
              "          dataTable['output_type'] = 'display_data';\n",
              "          await google.colab.output.renderOutput(dataTable, element);\n",
              "          const docLink = document.createElement('div');\n",
              "          docLink.innerHTML = docLinkHtml;\n",
              "          element.appendChild(docLink);\n",
              "        }\n",
              "      </script>\n",
              "    </div>\n",
              "  </div>\n",
              "  "
            ]
          },
          "metadata": {},
          "execution_count": 9
        }
      ]
    },
    {
      "cell_type": "markdown",
      "metadata": {
        "id": "QukDsEL8NAlA"
      },
      "source": [
        "Acima o comando 'describe()' foi utilizado para encontrarmos a média, mediana e desvio padrão para cada uma das colunas e é possível notar algumas incoerências nos resultados, pois o valor mínimo de ambas as colunas é negativo, algo que não poderia ser possível, pois o tempo mínimo entre mortes deve ser um número positivo, afinal, não há tempo negativo.\n",
        "\n",
        "Além disso, a contagem da coluna 'tempo_por morte' é 181 sendo que deveria ser 238, isso ocorre, pois alteramos a coluna 'tempo_por_morte', transformando todo valor inf de infinito em 'NaN'. "
      ]
    },
    {
      "cell_type": "markdown",
      "metadata": {
        "id": "JzUm_MqyQKsw"
      },
      "source": [
        "Vamos focar na coluna 'tempo_por_morte', pois ela é mais simples de se interpretar.\n",
        "\n",
        "A média dos tempos por morte de todos os registros é de 13.31, ou seja, as mortes ocorreram, na teoria com todas espaçadas perfeitamente, aproximadamente, uma vez a cada 13 horas e 18 minutos.\n",
        "\n",
        "A mediana da coluna 'tempo_por_morte' é representada pela linha **50%** e tem o valor de 6, ou seja, durante os 257 dias de pandemia os valores estão distribuídos por volta do 6 (6 horas entre as mortes) e isso é confirmado pelos dados de **25%** e **75%**, respectivamente, 3 e 16, números próximos do 6 ao considerarmos que o maior valor encontrado é 360.\n",
        "\n",
        "E por último podemos obter o desvio padrão, que representa o quanto cada dado está afastado da média, no geral. E o desvio padrão para 'tempo_por_morte' é igual a 28.84, ou seja, cada dado da tabela difere da média em algo próximo de 28 horas e 51 minutos, porém isso é um valor generalizado e não corresponde as variações reais em si, pois alguns dados variam menos e outros mais. Além disso o valor do desvio padrão é maior que a média, ou seja, a média menos o desvio padrão dá um valor negativo que é um número estranho para a base de dados em questão."
      ]
    },
    {
      "cell_type": "code",
      "metadata": {
        "colab": {
          "base_uri": "https://localhost:8080/"
        },
        "id": "Ki7DUQEP2FNQ",
        "outputId": "7ecab3f7-7032-4a8c-9e70-dcabd0e2f522"
      },
      "source": [
        "bd[['tempo_por_morte','mortes_por_hora']].var()"
      ],
      "execution_count": 10,
      "outputs": [
        {
          "output_type": "execute_result",
          "data": {
            "text/plain": [
              "tempo_por_morte    836.243061\n",
              "mortes_por_hora      0.035534\n",
              "dtype: float64"
            ]
          },
          "metadata": {},
          "execution_count": 10
        }
      ]
    },
    {
      "cell_type": "markdown",
      "metadata": {
        "id": "Ymm58ebv3ig8"
      },
      "source": [
        "Acima se encontra a variância das colunas 'tempo_por_morte' e 'mortes_por_hora'.\n",
        "\n",
        "A variância é a medida de dispersão que dita de que forma os dados estão distribuídos em relação a média, um valor de variância baixo indica que os dados estão próximos da média e um valor alto indica que os números estão mais distantes da média, o que diminui um pouco o peso do desvio padrão, pois uma variância muito grade pode significar a presença de outliers, que são valores muito pequenos ou muito grandes que fogem do comum em relação ao restante dos dados.\n",
        "\n",
        "A variância da coluna 'tempo_por_morte' é 831.6, o que é bem grande em relação a sua média 13.31 e significa que os dados talvez não estejam muito bem distribuídos em relação a média, ou que há a presença de alguns outliers."
      ]
    },
    {
      "cell_type": "markdown",
      "metadata": {
        "id": "uH-29SqCtncC"
      },
      "source": [
        "Abaixo estarão os registros que apresentam valores para coluna 'mortes_por_hora' menores que 0 e os registros próximos deles, a fim de encontrarmos o motivo do erro no valor mínimo da tabela, uma valor negativo."
      ]
    },
    {
      "cell_type": "code",
      "metadata": {
        "colab": {
          "base_uri": "https://localhost:8080/"
        },
        "id": "-Oa5Fm6Zv0Ee",
        "outputId": "a64c75f9-7664-484d-95cd-99e6d1fe66a0"
      },
      "source": [
        "pd.set_option('display.width', 200)\n",
        "pd.set_option('display.max_columns', None)\n",
        "for a in range(bd.shape[0]-1,-1,-1):\n",
        "  if bd['mortes_por_hora'][a] < 0:\n",
        "    print(bd[['date', 'confirmed', 'deaths', 'dias_corridos','mortes_por_hora', 'tempo_por_morte']][a+3:a-4:-1])\n",
        "    print()\n",
        "pd.reset_option('display.max_columns')\n",
        "pd.reset_option('display.width')"
      ],
      "execution_count": null,
      "outputs": [
        {
          "output_type": "stream",
          "text": [
            "          date  confirmed  deaths  dias_corridos  mortes_por_hora  tempo_por_morte\n",
            "96  2020-08-10      18291     676          148.0         0.000000              NaN\n",
            "95  2020-08-11      18511     689          149.0         0.270833             3.69\n",
            "94  2020-08-12      18855     691          150.0         0.083333            12.00\n",
            "93  2020-08-13      19134     689          151.0        -0.083333           -12.00\n",
            "92  2020-08-14      19356     691          152.0         0.000000              NaN\n",
            "91  2020-08-15      19549     694          153.0         0.125000             8.00\n",
            "90  2020-08-16      19601     711          154.0         0.708333             1.41\n",
            "\n",
            "          date  confirmed  deaths  dias_corridos  mortes_por_hora  tempo_por_morte\n",
            "83  2020-08-23      20644     739          161.0         0.041667            24.00\n",
            "82  2020-08-24      20687     739          162.0         0.000000              NaN\n",
            "81  2020-08-25      20869     757          163.0         0.375000             2.67\n",
            "80  2020-08-26      21039     756          164.0        -0.041667           -24.00\n",
            "79  2020-08-27      21345     758          165.0         0.020833            48.00\n",
            "78  2020-08-28      21615     769          166.0         0.458333             2.18\n",
            "77  2020-08-30      21709     776          168.0         0.145833             6.86\n",
            "\n"
          ],
          "name": "stdout"
        }
      ]
    },
    {
      "cell_type": "markdown",
      "metadata": {
        "id": "kb4PLXUE7SOO"
      },
      "source": [
        "Analisando as tabelas acima, podemos observar que os valores da coluna 'mortes_por_hora' só vieram negativos, pois houve um problema na coluna 'deaths', em ambos os casos o número de mortes da coluna 'deaths' que é cumulativa, diminuiu, ou seja, em duas ocasiões os responsáveis pela base de dados atualizaram as bases com números de morte menores que os corretos, ação que ocasionou tal erro no valor mínimo dos dados."
      ]
    },
    {
      "cell_type": "markdown",
      "metadata": {
        "id": "xqFHwBmi1VwA"
      },
      "source": [
        "Acima, além dos comandos já utilizados anteriormente foram utilizados os comandos 'pd.set_option(\"display.width, quantidade de caracteres\")', 'pd.set_option(\"display.max_columns\", None (para mostrar todas as colunas da base de dados))' e os comandos 'pd.reset_option(\"dispaly.width\")' e o 'pd.reset_option(\"display.max_columns\")', que servem para configurar quantas colunas da tabela devem aparecer e o número de caracteres que o print colocará em uma mesma linha, o que permite que mais colunas de um mesmo registro apareçam juntas. Abaixo há um exemplo do que ocorre se não usarmos os comandos para configurar o 'print()'.\n"
      ]
    },
    {
      "cell_type": "code",
      "metadata": {
        "colab": {
          "base_uri": "https://localhost:8080/"
        },
        "id": "WcyK96O859Iu",
        "outputId": "ed7e1081-d9ae-464b-e9a0-3ccd373b87aa"
      },
      "source": [
        "print(bd[['date', 'confirmed', 'deaths', 'dias_corridos','mortes_por_hora', 'tempo_por_morte']].loc[92:94])"
      ],
      "execution_count": null,
      "outputs": [
        {
          "output_type": "stream",
          "text": [
            "          date  confirmed  ...  mortes_por_hora  tempo_por_morte\n",
            "92  2020-08-14      19356  ...         0.000000              NaN\n",
            "93  2020-08-13      19134  ...        -0.083333            -12.0\n",
            "94  2020-08-12      18855  ...         0.083333             12.0\n",
            "\n",
            "[3 rows x 6 columns]\n"
          ],
          "name": "stdout"
        }
      ]
    },
    {
      "cell_type": "markdown",
      "metadata": {
        "id": "cm8J045etgRu"
      },
      "source": [
        "E por último a moda, que nos dá os valores que aparecem com maior frequência."
      ]
    },
    {
      "cell_type": "code",
      "metadata": {
        "colab": {
          "base_uri": "https://localhost:8080/",
          "height": 77
        },
        "id": "hlBwxyZsDadr",
        "outputId": "e45d99f4-349e-4a97-cd8c-a1e5ccb175f3"
      },
      "source": [
        "bd[['mortes_por_hora','tempo_por_morte']].mode()"
      ],
      "execution_count": null,
      "outputs": [
        {
          "output_type": "execute_result",
          "data": {
            "text/html": [
              "<div>\n",
              "<style scoped>\n",
              "    .dataframe tbody tr th:only-of-type {\n",
              "        vertical-align: middle;\n",
              "    }\n",
              "\n",
              "    .dataframe tbody tr th {\n",
              "        vertical-align: top;\n",
              "    }\n",
              "\n",
              "    .dataframe thead th {\n",
              "        text-align: right;\n",
              "    }\n",
              "</style>\n",
              "<table border=\"1\" class=\"dataframe\">\n",
              "  <thead>\n",
              "    <tr style=\"text-align: right;\">\n",
              "      <th></th>\n",
              "      <th>mortes_por_hora</th>\n",
              "      <th>tempo_por_morte</th>\n",
              "    </tr>\n",
              "  </thead>\n",
              "  <tbody>\n",
              "    <tr>\n",
              "      <th>0</th>\n",
              "      <td>0.0</td>\n",
              "      <td>24.0</td>\n",
              "    </tr>\n",
              "  </tbody>\n",
              "</table>\n",
              "</div>"
            ],
            "text/plain": [
              "   mortes_por_hora  tempo_por_morte\n",
              "0              0.0             24.0"
            ]
          },
          "metadata": {
            "tags": []
          },
          "execution_count": 13
        }
      ]
    },
    {
      "cell_type": "markdown",
      "metadata": {
        "id": "i7D1EAe-92Cm"
      },
      "source": [
        "De acordo com o comando 'mode()' acima a moda da coluna 'tempo_por_morte' é 24 horas, porém isso não se confirma com os dados encontrados abaixo."
      ]
    },
    {
      "cell_type": "code",
      "metadata": {
        "colab": {
          "base_uri": "https://localhost:8080/"
        },
        "id": "AFid18_mEp2V",
        "outputId": "756c65ea-d791-4557-efa3-6b390b5461e7"
      },
      "source": [
        "bd[['deaths','mortes_por_hora','tempo_por_morte']].query('tempo_por_morte == 24').count()"
      ],
      "execution_count": null,
      "outputs": [
        {
          "output_type": "execute_result",
          "data": {
            "text/plain": [
              "deaths             28\n",
              "mortes_por_hora    28\n",
              "tempo_por_morte    28\n",
              "dtype: int64"
            ]
          },
          "metadata": {
            "tags": []
          },
          "execution_count": 14
        }
      ]
    },
    {
      "cell_type": "code",
      "metadata": {
        "colab": {
          "base_uri": "https://localhost:8080/",
          "height": 462
        },
        "id": "VR3btQCE-LAF",
        "outputId": "bf4a028f-3c86-4656-e74b-749273c45fd2"
      },
      "source": [
        "bd[['deaths','mortes_por_hora','tempo_por_morte']].query('tempo_por_morte == 24')[::2]"
      ],
      "execution_count": null,
      "outputs": [
        {
          "output_type": "execute_result",
          "data": {
            "text/html": [
              "<div>\n",
              "<style scoped>\n",
              "    .dataframe tbody tr th:only-of-type {\n",
              "        vertical-align: middle;\n",
              "    }\n",
              "\n",
              "    .dataframe tbody tr th {\n",
              "        vertical-align: top;\n",
              "    }\n",
              "\n",
              "    .dataframe thead th {\n",
              "        text-align: right;\n",
              "    }\n",
              "</style>\n",
              "<table border=\"1\" class=\"dataframe\">\n",
              "  <thead>\n",
              "    <tr style=\"text-align: right;\">\n",
              "      <th></th>\n",
              "      <th>deaths</th>\n",
              "      <th>mortes_por_hora</th>\n",
              "      <th>tempo_por_morte</th>\n",
              "    </tr>\n",
              "  </thead>\n",
              "  <tbody>\n",
              "    <tr>\n",
              "      <th>1</th>\n",
              "      <td>1029</td>\n",
              "      <td>0.041667</td>\n",
              "      <td>24.0</td>\n",
              "    </tr>\n",
              "    <tr>\n",
              "      <th>25</th>\n",
              "      <td>976</td>\n",
              "      <td>0.041667</td>\n",
              "      <td>24.0</td>\n",
              "    </tr>\n",
              "    <tr>\n",
              "      <th>57</th>\n",
              "      <td>870</td>\n",
              "      <td>0.041667</td>\n",
              "      <td>24.0</td>\n",
              "    </tr>\n",
              "    <tr>\n",
              "      <th>70</th>\n",
              "      <td>807</td>\n",
              "      <td>0.041667</td>\n",
              "      <td>24.0</td>\n",
              "    </tr>\n",
              "    <tr>\n",
              "      <th>100</th>\n",
              "      <td>650</td>\n",
              "      <td>0.041667</td>\n",
              "      <td>24.0</td>\n",
              "    </tr>\n",
              "    <tr>\n",
              "      <th>112</th>\n",
              "      <td>594</td>\n",
              "      <td>0.041667</td>\n",
              "      <td>24.0</td>\n",
              "    </tr>\n",
              "    <tr>\n",
              "      <th>144</th>\n",
              "      <td>325</td>\n",
              "      <td>0.041667</td>\n",
              "      <td>24.0</td>\n",
              "    </tr>\n",
              "    <tr>\n",
              "      <th>152</th>\n",
              "      <td>286</td>\n",
              "      <td>0.041667</td>\n",
              "      <td>24.0</td>\n",
              "    </tr>\n",
              "    <tr>\n",
              "      <th>161</th>\n",
              "      <td>233</td>\n",
              "      <td>0.041667</td>\n",
              "      <td>24.0</td>\n",
              "    </tr>\n",
              "    <tr>\n",
              "      <th>165</th>\n",
              "      <td>214</td>\n",
              "      <td>0.041667</td>\n",
              "      <td>24.0</td>\n",
              "    </tr>\n",
              "    <tr>\n",
              "      <th>176</th>\n",
              "      <td>153</td>\n",
              "      <td>0.041667</td>\n",
              "      <td>24.0</td>\n",
              "    </tr>\n",
              "    <tr>\n",
              "      <th>205</th>\n",
              "      <td>25</td>\n",
              "      <td>0.041667</td>\n",
              "      <td>24.0</td>\n",
              "    </tr>\n",
              "    <tr>\n",
              "      <th>212</th>\n",
              "      <td>16</td>\n",
              "      <td>0.041667</td>\n",
              "      <td>24.0</td>\n",
              "    </tr>\n",
              "    <tr>\n",
              "      <th>220</th>\n",
              "      <td>7</td>\n",
              "      <td>0.041667</td>\n",
              "      <td>24.0</td>\n",
              "    </tr>\n",
              "  </tbody>\n",
              "</table>\n",
              "</div>"
            ],
            "text/plain": [
              "     deaths  mortes_por_hora  tempo_por_morte\n",
              "1      1029         0.041667             24.0\n",
              "25      976         0.041667             24.0\n",
              "57      870         0.041667             24.0\n",
              "70      807         0.041667             24.0\n",
              "100     650         0.041667             24.0\n",
              "112     594         0.041667             24.0\n",
              "144     325         0.041667             24.0\n",
              "152     286         0.041667             24.0\n",
              "161     233         0.041667             24.0\n",
              "165     214         0.041667             24.0\n",
              "176     153         0.041667             24.0\n",
              "205      25         0.041667             24.0\n",
              "212      16         0.041667             24.0\n",
              "220       7         0.041667             24.0"
            ]
          },
          "metadata": {
            "tags": []
          },
          "execution_count": 15
        }
      ]
    },
    {
      "cell_type": "code",
      "metadata": {
        "colab": {
          "base_uri": "https://localhost:8080/",
          "height": 47
        },
        "id": "GwJLEbtgDdQP",
        "outputId": "a0409e11-bc70-40d2-de45-780d741ea4aa"
      },
      "source": [
        "bd[['deaths','mortes_por_hora','tempo_por_morte']].query('tempo_por_morte != 24 & mortes_por_hora == 0.041667')[::2]"
      ],
      "execution_count": null,
      "outputs": [
        {
          "output_type": "execute_result",
          "data": {
            "text/html": [
              "<div>\n",
              "<style scoped>\n",
              "    .dataframe tbody tr th:only-of-type {\n",
              "        vertical-align: middle;\n",
              "    }\n",
              "\n",
              "    .dataframe tbody tr th {\n",
              "        vertical-align: top;\n",
              "    }\n",
              "\n",
              "    .dataframe thead th {\n",
              "        text-align: right;\n",
              "    }\n",
              "</style>\n",
              "<table border=\"1\" class=\"dataframe\">\n",
              "  <thead>\n",
              "    <tr style=\"text-align: right;\">\n",
              "      <th></th>\n",
              "      <th>deaths</th>\n",
              "      <th>mortes_por_hora</th>\n",
              "      <th>tempo_por_morte</th>\n",
              "    </tr>\n",
              "  </thead>\n",
              "  <tbody>\n",
              "  </tbody>\n",
              "</table>\n",
              "</div>"
            ],
            "text/plain": [
              "Empty DataFrame\n",
              "Columns: [deaths, mortes_por_hora, tempo_por_morte]\n",
              "Index: []"
            ]
          },
          "metadata": {
            "tags": []
          },
          "execution_count": 16
        }
      ]
    },
    {
      "cell_type": "markdown",
      "metadata": {
        "id": "_GA1jBgI_Jye"
      },
      "source": [
        "Acima estão alguns dos 28 registros que possuem 24 horas como valor da coluna 'tempo_por_morte'. E, por meio da última tabela, é possível confirmar que a coluna 'tempo_por_morte' apresenta sempre um valor ligado ao valor da coluna 'mortes_por_hora', pois o 24 só surge, caso o valor 0.041667 também apareça, algo que não ocorreu ao usarmos o 'query()' para procurarmos registros com valor 24 separados do valor 0.041667.\n",
        "\n",
        "Outro fator interessante é que a coluna 'tempo_por_morte' depende do valor da coluna 'mortes_por_hora' e suas modas, de acordo com o comando 'mode()' são, respectivamente, 24 e 0, porém o valor de 'mortes_por_hora' ligado ao 24 é 0.041667, ou seja, alguma coisa está errada e vamos verificar isso logo abaixo."
      ]
    },
    {
      "cell_type": "code",
      "metadata": {
        "colab": {
          "base_uri": "https://localhost:8080/"
        },
        "id": "xE0BCtttsJ5B",
        "outputId": "3b4b7a87-b5ff-486c-b192-cabf18ed840b"
      },
      "source": [
        "bd[['deaths','mortes_por_hora','tempo_por_morte']].query('mortes_por_hora == 0').count()"
      ],
      "execution_count": 11,
      "outputs": [
        {
          "output_type": "execute_result",
          "data": {
            "text/plain": [
              "deaths             58\n",
              "mortes_por_hora    58\n",
              "tempo_por_morte     0\n",
              "dtype: int64"
            ]
          },
          "metadata": {},
          "execution_count": 11
        }
      ]
    },
    {
      "cell_type": "code",
      "metadata": {
        "colab": {
          "base_uri": "https://localhost:8080/",
          "height": 426
        },
        "id": "MRExs3wksdqE",
        "outputId": "0d83f712-d278-4e00-ead3-ce3d06e07628"
      },
      "source": [
        "bd[['deaths','mortes_por_hora','tempo_por_morte']].query('mortes_por_hora == 0')[::5]"
      ],
      "execution_count": 12,
      "outputs": [
        {
          "output_type": "execute_result",
          "data": {
            "text/plain": [
              "     deaths  mortes_por_hora  tempo_por_morte\n",
              "5      1019              0.0              NaN\n",
              "14      998              0.0              NaN\n",
              "34      955              0.0              NaN\n",
              "50      904              0.0              NaN\n",
              "76      776              0.0              NaN\n",
              "98      660              0.0              NaN\n",
              "159     234              0.0              NaN\n",
              "194      52              0.0              NaN\n",
              "207      20              0.0              NaN\n",
              "219       7              0.0              NaN\n",
              "230       0              0.0              NaN\n",
              "235       0              0.0              NaN"
            ],
            "text/html": [
              "\n",
              "  <div id=\"df-eaf97257-e034-4ecb-beb5-a76be355e56a\">\n",
              "    <div class=\"colab-df-container\">\n",
              "      <div>\n",
              "<style scoped>\n",
              "    .dataframe tbody tr th:only-of-type {\n",
              "        vertical-align: middle;\n",
              "    }\n",
              "\n",
              "    .dataframe tbody tr th {\n",
              "        vertical-align: top;\n",
              "    }\n",
              "\n",
              "    .dataframe thead th {\n",
              "        text-align: right;\n",
              "    }\n",
              "</style>\n",
              "<table border=\"1\" class=\"dataframe\">\n",
              "  <thead>\n",
              "    <tr style=\"text-align: right;\">\n",
              "      <th></th>\n",
              "      <th>deaths</th>\n",
              "      <th>mortes_por_hora</th>\n",
              "      <th>tempo_por_morte</th>\n",
              "    </tr>\n",
              "  </thead>\n",
              "  <tbody>\n",
              "    <tr>\n",
              "      <th>5</th>\n",
              "      <td>1019</td>\n",
              "      <td>0.0</td>\n",
              "      <td>NaN</td>\n",
              "    </tr>\n",
              "    <tr>\n",
              "      <th>14</th>\n",
              "      <td>998</td>\n",
              "      <td>0.0</td>\n",
              "      <td>NaN</td>\n",
              "    </tr>\n",
              "    <tr>\n",
              "      <th>34</th>\n",
              "      <td>955</td>\n",
              "      <td>0.0</td>\n",
              "      <td>NaN</td>\n",
              "    </tr>\n",
              "    <tr>\n",
              "      <th>50</th>\n",
              "      <td>904</td>\n",
              "      <td>0.0</td>\n",
              "      <td>NaN</td>\n",
              "    </tr>\n",
              "    <tr>\n",
              "      <th>76</th>\n",
              "      <td>776</td>\n",
              "      <td>0.0</td>\n",
              "      <td>NaN</td>\n",
              "    </tr>\n",
              "    <tr>\n",
              "      <th>98</th>\n",
              "      <td>660</td>\n",
              "      <td>0.0</td>\n",
              "      <td>NaN</td>\n",
              "    </tr>\n",
              "    <tr>\n",
              "      <th>159</th>\n",
              "      <td>234</td>\n",
              "      <td>0.0</td>\n",
              "      <td>NaN</td>\n",
              "    </tr>\n",
              "    <tr>\n",
              "      <th>194</th>\n",
              "      <td>52</td>\n",
              "      <td>0.0</td>\n",
              "      <td>NaN</td>\n",
              "    </tr>\n",
              "    <tr>\n",
              "      <th>207</th>\n",
              "      <td>20</td>\n",
              "      <td>0.0</td>\n",
              "      <td>NaN</td>\n",
              "    </tr>\n",
              "    <tr>\n",
              "      <th>219</th>\n",
              "      <td>7</td>\n",
              "      <td>0.0</td>\n",
              "      <td>NaN</td>\n",
              "    </tr>\n",
              "    <tr>\n",
              "      <th>230</th>\n",
              "      <td>0</td>\n",
              "      <td>0.0</td>\n",
              "      <td>NaN</td>\n",
              "    </tr>\n",
              "    <tr>\n",
              "      <th>235</th>\n",
              "      <td>0</td>\n",
              "      <td>0.0</td>\n",
              "      <td>NaN</td>\n",
              "    </tr>\n",
              "  </tbody>\n",
              "</table>\n",
              "</div>\n",
              "      <button class=\"colab-df-convert\" onclick=\"convertToInteractive('df-eaf97257-e034-4ecb-beb5-a76be355e56a')\"\n",
              "              title=\"Convert this dataframe to an interactive table.\"\n",
              "              style=\"display:none;\">\n",
              "        \n",
              "  <svg xmlns=\"http://www.w3.org/2000/svg\" height=\"24px\"viewBox=\"0 0 24 24\"\n",
              "       width=\"24px\">\n",
              "    <path d=\"M0 0h24v24H0V0z\" fill=\"none\"/>\n",
              "    <path d=\"M18.56 5.44l.94 2.06.94-2.06 2.06-.94-2.06-.94-.94-2.06-.94 2.06-2.06.94zm-11 1L8.5 8.5l.94-2.06 2.06-.94-2.06-.94L8.5 2.5l-.94 2.06-2.06.94zm10 10l.94 2.06.94-2.06 2.06-.94-2.06-.94-.94-2.06-.94 2.06-2.06.94z\"/><path d=\"M17.41 7.96l-1.37-1.37c-.4-.4-.92-.59-1.43-.59-.52 0-1.04.2-1.43.59L10.3 9.45l-7.72 7.72c-.78.78-.78 2.05 0 2.83L4 21.41c.39.39.9.59 1.41.59.51 0 1.02-.2 1.41-.59l7.78-7.78 2.81-2.81c.8-.78.8-2.07 0-2.86zM5.41 20L4 18.59l7.72-7.72 1.47 1.35L5.41 20z\"/>\n",
              "  </svg>\n",
              "      </button>\n",
              "      \n",
              "  <style>\n",
              "    .colab-df-container {\n",
              "      display:flex;\n",
              "      flex-wrap:wrap;\n",
              "      gap: 12px;\n",
              "    }\n",
              "\n",
              "    .colab-df-convert {\n",
              "      background-color: #E8F0FE;\n",
              "      border: none;\n",
              "      border-radius: 50%;\n",
              "      cursor: pointer;\n",
              "      display: none;\n",
              "      fill: #1967D2;\n",
              "      height: 32px;\n",
              "      padding: 0 0 0 0;\n",
              "      width: 32px;\n",
              "    }\n",
              "\n",
              "    .colab-df-convert:hover {\n",
              "      background-color: #E2EBFA;\n",
              "      box-shadow: 0px 1px 2px rgba(60, 64, 67, 0.3), 0px 1px 3px 1px rgba(60, 64, 67, 0.15);\n",
              "      fill: #174EA6;\n",
              "    }\n",
              "\n",
              "    [theme=dark] .colab-df-convert {\n",
              "      background-color: #3B4455;\n",
              "      fill: #D2E3FC;\n",
              "    }\n",
              "\n",
              "    [theme=dark] .colab-df-convert:hover {\n",
              "      background-color: #434B5C;\n",
              "      box-shadow: 0px 1px 3px 1px rgba(0, 0, 0, 0.15);\n",
              "      filter: drop-shadow(0px 1px 2px rgba(0, 0, 0, 0.3));\n",
              "      fill: #FFFFFF;\n",
              "    }\n",
              "  </style>\n",
              "\n",
              "      <script>\n",
              "        const buttonEl =\n",
              "          document.querySelector('#df-eaf97257-e034-4ecb-beb5-a76be355e56a button.colab-df-convert');\n",
              "        buttonEl.style.display =\n",
              "          google.colab.kernel.accessAllowed ? 'block' : 'none';\n",
              "\n",
              "        async function convertToInteractive(key) {\n",
              "          const element = document.querySelector('#df-eaf97257-e034-4ecb-beb5-a76be355e56a');\n",
              "          const dataTable =\n",
              "            await google.colab.kernel.invokeFunction('convertToInteractive',\n",
              "                                                     [key], {});\n",
              "          if (!dataTable) return;\n",
              "\n",
              "          const docLinkHtml = 'Like what you see? Visit the ' +\n",
              "            '<a target=\"_blank\" href=https://colab.research.google.com/notebooks/data_table.ipynb>data table notebook</a>'\n",
              "            + ' to learn more about interactive tables.';\n",
              "          element.innerHTML = '';\n",
              "          dataTable['output_type'] = 'display_data';\n",
              "          await google.colab.output.renderOutput(dataTable, element);\n",
              "          const docLink = document.createElement('div');\n",
              "          docLink.innerHTML = docLinkHtml;\n",
              "          element.appendChild(docLink);\n",
              "        }\n",
              "      </script>\n",
              "    </div>\n",
              "  </div>\n",
              "  "
            ]
          },
          "metadata": {},
          "execution_count": 12
        }
      ]
    },
    {
      "cell_type": "markdown",
      "metadata": {
        "id": "m6sIOD09Mcsq"
      },
      "source": [
        "Acima podemos notar que a moda da coluna 'mortes_por_hora' é 0 com 58 repetições. O que está diferente do esperado é a contagem dos dados da coluna 'tempo_por_morte' que é 0, seus 58 registros faltantes representam o valor 'NaN', o qual não é contabilizado nas contagens de moda e deveria ser inf de infinito, porém foi alterado para não mudar a média, o desvio padrão e a variância, logo devemos considerar que a verdadeira moda da coluna 'tempo_por_morte' ocorre quando o número de 'mortes_por_hora' é 0 com 58 repetições."
      ]
    },
    {
      "cell_type": "markdown",
      "metadata": {
        "id": "erUpsbHwEfVz"
      },
      "source": [
        "\n",
        "\n",
        "Além disso a moda ser 0 ('NaN') é algo provável, pois tanto no início da pandemia como no final o número de mortes terá que ser 0, o que automaticamente torna o 0 um possível candidato para ser a moda da base de dados."
      ]
    },
    {
      "cell_type": "markdown",
      "metadata": {
        "id": "xBi1YWVeh74m"
      },
      "source": [
        "Outras informações interssantes sobre as novas colunas são os dados mínimos e máximos."
      ]
    },
    {
      "cell_type": "code",
      "metadata": {
        "colab": {
          "base_uri": "https://localhost:8080/",
          "height": 81
        },
        "id": "guT3hRbeiQ6m",
        "outputId": "70f6643f-3df6-40e5-8982-85b1effdcde8"
      },
      "source": [
        "bd[bd['tempo_por_morte']==bd['tempo_por_morte'].min()]"
      ],
      "execution_count": 13,
      "outputs": [
        {
          "output_type": "execute_result",
          "data": {
            "text/plain": [
              "          date  confirmed  deaths  estimated_population  \\\n",
              "80  2020-08-26      21039     756                844483   \n",
              "\n",
              "    confirmed_per_100k_inhabitants  death_rate  Mes  dias_corridos  \\\n",
              "80                      2491.34678      0.0359  8.0          164.0   \n",
              "\n",
              "    mortes_por_hora  tempo_por_morte  \n",
              "80        -0.041667            -24.0  "
            ],
            "text/html": [
              "\n",
              "  <div id=\"df-45c99958-f69d-491a-9f41-d61271bd6438\">\n",
              "    <div class=\"colab-df-container\">\n",
              "      <div>\n",
              "<style scoped>\n",
              "    .dataframe tbody tr th:only-of-type {\n",
              "        vertical-align: middle;\n",
              "    }\n",
              "\n",
              "    .dataframe tbody tr th {\n",
              "        vertical-align: top;\n",
              "    }\n",
              "\n",
              "    .dataframe thead th {\n",
              "        text-align: right;\n",
              "    }\n",
              "</style>\n",
              "<table border=\"1\" class=\"dataframe\">\n",
              "  <thead>\n",
              "    <tr style=\"text-align: right;\">\n",
              "      <th></th>\n",
              "      <th>date</th>\n",
              "      <th>confirmed</th>\n",
              "      <th>deaths</th>\n",
              "      <th>estimated_population</th>\n",
              "      <th>confirmed_per_100k_inhabitants</th>\n",
              "      <th>death_rate</th>\n",
              "      <th>Mes</th>\n",
              "      <th>dias_corridos</th>\n",
              "      <th>mortes_por_hora</th>\n",
              "      <th>tempo_por_morte</th>\n",
              "    </tr>\n",
              "  </thead>\n",
              "  <tbody>\n",
              "    <tr>\n",
              "      <th>80</th>\n",
              "      <td>2020-08-26</td>\n",
              "      <td>21039</td>\n",
              "      <td>756</td>\n",
              "      <td>844483</td>\n",
              "      <td>2491.34678</td>\n",
              "      <td>0.0359</td>\n",
              "      <td>8.0</td>\n",
              "      <td>164.0</td>\n",
              "      <td>-0.041667</td>\n",
              "      <td>-24.0</td>\n",
              "    </tr>\n",
              "  </tbody>\n",
              "</table>\n",
              "</div>\n",
              "      <button class=\"colab-df-convert\" onclick=\"convertToInteractive('df-45c99958-f69d-491a-9f41-d61271bd6438')\"\n",
              "              title=\"Convert this dataframe to an interactive table.\"\n",
              "              style=\"display:none;\">\n",
              "        \n",
              "  <svg xmlns=\"http://www.w3.org/2000/svg\" height=\"24px\"viewBox=\"0 0 24 24\"\n",
              "       width=\"24px\">\n",
              "    <path d=\"M0 0h24v24H0V0z\" fill=\"none\"/>\n",
              "    <path d=\"M18.56 5.44l.94 2.06.94-2.06 2.06-.94-2.06-.94-.94-2.06-.94 2.06-2.06.94zm-11 1L8.5 8.5l.94-2.06 2.06-.94-2.06-.94L8.5 2.5l-.94 2.06-2.06.94zm10 10l.94 2.06.94-2.06 2.06-.94-2.06-.94-.94-2.06-.94 2.06-2.06.94z\"/><path d=\"M17.41 7.96l-1.37-1.37c-.4-.4-.92-.59-1.43-.59-.52 0-1.04.2-1.43.59L10.3 9.45l-7.72 7.72c-.78.78-.78 2.05 0 2.83L4 21.41c.39.39.9.59 1.41.59.51 0 1.02-.2 1.41-.59l7.78-7.78 2.81-2.81c.8-.78.8-2.07 0-2.86zM5.41 20L4 18.59l7.72-7.72 1.47 1.35L5.41 20z\"/>\n",
              "  </svg>\n",
              "      </button>\n",
              "      \n",
              "  <style>\n",
              "    .colab-df-container {\n",
              "      display:flex;\n",
              "      flex-wrap:wrap;\n",
              "      gap: 12px;\n",
              "    }\n",
              "\n",
              "    .colab-df-convert {\n",
              "      background-color: #E8F0FE;\n",
              "      border: none;\n",
              "      border-radius: 50%;\n",
              "      cursor: pointer;\n",
              "      display: none;\n",
              "      fill: #1967D2;\n",
              "      height: 32px;\n",
              "      padding: 0 0 0 0;\n",
              "      width: 32px;\n",
              "    }\n",
              "\n",
              "    .colab-df-convert:hover {\n",
              "      background-color: #E2EBFA;\n",
              "      box-shadow: 0px 1px 2px rgba(60, 64, 67, 0.3), 0px 1px 3px 1px rgba(60, 64, 67, 0.15);\n",
              "      fill: #174EA6;\n",
              "    }\n",
              "\n",
              "    [theme=dark] .colab-df-convert {\n",
              "      background-color: #3B4455;\n",
              "      fill: #D2E3FC;\n",
              "    }\n",
              "\n",
              "    [theme=dark] .colab-df-convert:hover {\n",
              "      background-color: #434B5C;\n",
              "      box-shadow: 0px 1px 3px 1px rgba(0, 0, 0, 0.15);\n",
              "      filter: drop-shadow(0px 1px 2px rgba(0, 0, 0, 0.3));\n",
              "      fill: #FFFFFF;\n",
              "    }\n",
              "  </style>\n",
              "\n",
              "      <script>\n",
              "        const buttonEl =\n",
              "          document.querySelector('#df-45c99958-f69d-491a-9f41-d61271bd6438 button.colab-df-convert');\n",
              "        buttonEl.style.display =\n",
              "          google.colab.kernel.accessAllowed ? 'block' : 'none';\n",
              "\n",
              "        async function convertToInteractive(key) {\n",
              "          const element = document.querySelector('#df-45c99958-f69d-491a-9f41-d61271bd6438');\n",
              "          const dataTable =\n",
              "            await google.colab.kernel.invokeFunction('convertToInteractive',\n",
              "                                                     [key], {});\n",
              "          if (!dataTable) return;\n",
              "\n",
              "          const docLinkHtml = 'Like what you see? Visit the ' +\n",
              "            '<a target=\"_blank\" href=https://colab.research.google.com/notebooks/data_table.ipynb>data table notebook</a>'\n",
              "            + ' to learn more about interactive tables.';\n",
              "          element.innerHTML = '';\n",
              "          dataTable['output_type'] = 'display_data';\n",
              "          await google.colab.output.renderOutput(dataTable, element);\n",
              "          const docLink = document.createElement('div');\n",
              "          docLink.innerHTML = docLinkHtml;\n",
              "          element.appendChild(docLink);\n",
              "        }\n",
              "      </script>\n",
              "    </div>\n",
              "  </div>\n",
              "  "
            ]
          },
          "metadata": {},
          "execution_count": 13
        }
      ]
    },
    {
      "cell_type": "code",
      "metadata": {
        "colab": {
          "base_uri": "https://localhost:8080/",
          "height": 81
        },
        "id": "uTDfqW7pjbLz",
        "outputId": "73dd5fc1-69df-4118-dcba-d8c2287a4c83"
      },
      "source": [
        "bd[bd['mortes_por_hora']==bd['mortes_por_hora'].min()]"
      ],
      "execution_count": 14,
      "outputs": [
        {
          "output_type": "execute_result",
          "data": {
            "text/plain": [
              "          date  confirmed  deaths  estimated_population  \\\n",
              "93  2020-08-13      19134     689                844483   \n",
              "\n",
              "    confirmed_per_100k_inhabitants  death_rate  Mes  dias_corridos  \\\n",
              "93                      2265.76497       0.036  8.0          151.0   \n",
              "\n",
              "    mortes_por_hora  tempo_por_morte  \n",
              "93        -0.083333            -12.0  "
            ],
            "text/html": [
              "\n",
              "  <div id=\"df-89fe140f-d4c5-4eea-8190-02e18b7230b7\">\n",
              "    <div class=\"colab-df-container\">\n",
              "      <div>\n",
              "<style scoped>\n",
              "    .dataframe tbody tr th:only-of-type {\n",
              "        vertical-align: middle;\n",
              "    }\n",
              "\n",
              "    .dataframe tbody tr th {\n",
              "        vertical-align: top;\n",
              "    }\n",
              "\n",
              "    .dataframe thead th {\n",
              "        text-align: right;\n",
              "    }\n",
              "</style>\n",
              "<table border=\"1\" class=\"dataframe\">\n",
              "  <thead>\n",
              "    <tr style=\"text-align: right;\">\n",
              "      <th></th>\n",
              "      <th>date</th>\n",
              "      <th>confirmed</th>\n",
              "      <th>deaths</th>\n",
              "      <th>estimated_population</th>\n",
              "      <th>confirmed_per_100k_inhabitants</th>\n",
              "      <th>death_rate</th>\n",
              "      <th>Mes</th>\n",
              "      <th>dias_corridos</th>\n",
              "      <th>mortes_por_hora</th>\n",
              "      <th>tempo_por_morte</th>\n",
              "    </tr>\n",
              "  </thead>\n",
              "  <tbody>\n",
              "    <tr>\n",
              "      <th>93</th>\n",
              "      <td>2020-08-13</td>\n",
              "      <td>19134</td>\n",
              "      <td>689</td>\n",
              "      <td>844483</td>\n",
              "      <td>2265.76497</td>\n",
              "      <td>0.036</td>\n",
              "      <td>8.0</td>\n",
              "      <td>151.0</td>\n",
              "      <td>-0.083333</td>\n",
              "      <td>-12.0</td>\n",
              "    </tr>\n",
              "  </tbody>\n",
              "</table>\n",
              "</div>\n",
              "      <button class=\"colab-df-convert\" onclick=\"convertToInteractive('df-89fe140f-d4c5-4eea-8190-02e18b7230b7')\"\n",
              "              title=\"Convert this dataframe to an interactive table.\"\n",
              "              style=\"display:none;\">\n",
              "        \n",
              "  <svg xmlns=\"http://www.w3.org/2000/svg\" height=\"24px\"viewBox=\"0 0 24 24\"\n",
              "       width=\"24px\">\n",
              "    <path d=\"M0 0h24v24H0V0z\" fill=\"none\"/>\n",
              "    <path d=\"M18.56 5.44l.94 2.06.94-2.06 2.06-.94-2.06-.94-.94-2.06-.94 2.06-2.06.94zm-11 1L8.5 8.5l.94-2.06 2.06-.94-2.06-.94L8.5 2.5l-.94 2.06-2.06.94zm10 10l.94 2.06.94-2.06 2.06-.94-2.06-.94-.94-2.06-.94 2.06-2.06.94z\"/><path d=\"M17.41 7.96l-1.37-1.37c-.4-.4-.92-.59-1.43-.59-.52 0-1.04.2-1.43.59L10.3 9.45l-7.72 7.72c-.78.78-.78 2.05 0 2.83L4 21.41c.39.39.9.59 1.41.59.51 0 1.02-.2 1.41-.59l7.78-7.78 2.81-2.81c.8-.78.8-2.07 0-2.86zM5.41 20L4 18.59l7.72-7.72 1.47 1.35L5.41 20z\"/>\n",
              "  </svg>\n",
              "      </button>\n",
              "      \n",
              "  <style>\n",
              "    .colab-df-container {\n",
              "      display:flex;\n",
              "      flex-wrap:wrap;\n",
              "      gap: 12px;\n",
              "    }\n",
              "\n",
              "    .colab-df-convert {\n",
              "      background-color: #E8F0FE;\n",
              "      border: none;\n",
              "      border-radius: 50%;\n",
              "      cursor: pointer;\n",
              "      display: none;\n",
              "      fill: #1967D2;\n",
              "      height: 32px;\n",
              "      padding: 0 0 0 0;\n",
              "      width: 32px;\n",
              "    }\n",
              "\n",
              "    .colab-df-convert:hover {\n",
              "      background-color: #E2EBFA;\n",
              "      box-shadow: 0px 1px 2px rgba(60, 64, 67, 0.3), 0px 1px 3px 1px rgba(60, 64, 67, 0.15);\n",
              "      fill: #174EA6;\n",
              "    }\n",
              "\n",
              "    [theme=dark] .colab-df-convert {\n",
              "      background-color: #3B4455;\n",
              "      fill: #D2E3FC;\n",
              "    }\n",
              "\n",
              "    [theme=dark] .colab-df-convert:hover {\n",
              "      background-color: #434B5C;\n",
              "      box-shadow: 0px 1px 3px 1px rgba(0, 0, 0, 0.15);\n",
              "      filter: drop-shadow(0px 1px 2px rgba(0, 0, 0, 0.3));\n",
              "      fill: #FFFFFF;\n",
              "    }\n",
              "  </style>\n",
              "\n",
              "      <script>\n",
              "        const buttonEl =\n",
              "          document.querySelector('#df-89fe140f-d4c5-4eea-8190-02e18b7230b7 button.colab-df-convert');\n",
              "        buttonEl.style.display =\n",
              "          google.colab.kernel.accessAllowed ? 'block' : 'none';\n",
              "\n",
              "        async function convertToInteractive(key) {\n",
              "          const element = document.querySelector('#df-89fe140f-d4c5-4eea-8190-02e18b7230b7');\n",
              "          const dataTable =\n",
              "            await google.colab.kernel.invokeFunction('convertToInteractive',\n",
              "                                                     [key], {});\n",
              "          if (!dataTable) return;\n",
              "\n",
              "          const docLinkHtml = 'Like what you see? Visit the ' +\n",
              "            '<a target=\"_blank\" href=https://colab.research.google.com/notebooks/data_table.ipynb>data table notebook</a>'\n",
              "            + ' to learn more about interactive tables.';\n",
              "          element.innerHTML = '';\n",
              "          dataTable['output_type'] = 'display_data';\n",
              "          await google.colab.output.renderOutput(dataTable, element);\n",
              "          const docLink = document.createElement('div');\n",
              "          docLink.innerHTML = docLinkHtml;\n",
              "          element.appendChild(docLink);\n",
              "        }\n",
              "      </script>\n",
              "    </div>\n",
              "  </div>\n",
              "  "
            ]
          },
          "metadata": {},
          "execution_count": 14
        }
      ]
    },
    {
      "cell_type": "markdown",
      "metadata": {
        "id": "8tGzh9Sii2Ob"
      },
      "source": [
        "Informações com valor negativo, tempo menor que 0, portanto erradas."
      ]
    },
    {
      "cell_type": "code",
      "metadata": {
        "colab": {
          "base_uri": "https://localhost:8080/",
          "height": 424
        },
        "id": "y7KWeKZ6jPe2",
        "outputId": "7ee6d7b5-361a-4b17-82d0-601a25362305"
      },
      "source": [
        "bd.query('tempo_por_morte >= 0')"
      ],
      "execution_count": 15,
      "outputs": [
        {
          "output_type": "execute_result",
          "data": {
            "text/plain": [
              "           date  confirmed  deaths  estimated_population  \\\n",
              "0    2020-11-28      29316    1031                844483   \n",
              "1    2020-11-27      29207    1029                844483   \n",
              "2    2020-11-26      29121    1028                844483   \n",
              "3    2020-11-25      29007    1024                844483   \n",
              "4    2020-11-24      28832    1021                844483   \n",
              "..          ...        ...     ...                   ...   \n",
              "221  2020-04-07        129       6                844483   \n",
              "223  2020-04-05         81       5                844483   \n",
              "225  2020-04-03         70       4                844483   \n",
              "227  2020-04-01         52       2                844483   \n",
              "229  2020-03-30         33       1                844483   \n",
              "\n",
              "     confirmed_per_100k_inhabitants  death_rate   Mes  dias_corridos  \\\n",
              "0                        3471.47308      0.0352  11.0          258.0   \n",
              "1                        3458.56577      0.0352  11.0          257.0   \n",
              "2                        3448.38203      0.0353  11.0          256.0   \n",
              "3                        3434.88264      0.0353  11.0          255.0   \n",
              "4                        3414.15991      0.0354  11.0          254.0   \n",
              "..                              ...         ...   ...            ...   \n",
              "221                        15.27562      0.0465   4.0           23.0   \n",
              "223                         9.59167      0.0617   4.0           21.0   \n",
              "225                         8.28910      0.0571   4.0           19.0   \n",
              "227                         6.15761      0.0385   4.0           17.0   \n",
              "229                         3.90772      0.0303   3.0           15.0   \n",
              "\n",
              "     mortes_por_hora  tempo_por_morte  \n",
              "0           0.083333             12.0  \n",
              "1           0.041667             24.0  \n",
              "2           0.166667              6.0  \n",
              "3           0.125000              8.0  \n",
              "4           0.027778             36.0  \n",
              "..               ...              ...  \n",
              "221         0.020833             48.0  \n",
              "223         0.020833             48.0  \n",
              "225         0.041667             24.0  \n",
              "227         0.020833             48.0  \n",
              "229         0.002778            360.0  \n",
              "\n",
              "[178 rows x 10 columns]"
            ],
            "text/html": [
              "\n",
              "  <div id=\"df-ffc14c13-1f0b-4693-b55c-1f4897da67fa\">\n",
              "    <div class=\"colab-df-container\">\n",
              "      <div>\n",
              "<style scoped>\n",
              "    .dataframe tbody tr th:only-of-type {\n",
              "        vertical-align: middle;\n",
              "    }\n",
              "\n",
              "    .dataframe tbody tr th {\n",
              "        vertical-align: top;\n",
              "    }\n",
              "\n",
              "    .dataframe thead th {\n",
              "        text-align: right;\n",
              "    }\n",
              "</style>\n",
              "<table border=\"1\" class=\"dataframe\">\n",
              "  <thead>\n",
              "    <tr style=\"text-align: right;\">\n",
              "      <th></th>\n",
              "      <th>date</th>\n",
              "      <th>confirmed</th>\n",
              "      <th>deaths</th>\n",
              "      <th>estimated_population</th>\n",
              "      <th>confirmed_per_100k_inhabitants</th>\n",
              "      <th>death_rate</th>\n",
              "      <th>Mes</th>\n",
              "      <th>dias_corridos</th>\n",
              "      <th>mortes_por_hora</th>\n",
              "      <th>tempo_por_morte</th>\n",
              "    </tr>\n",
              "  </thead>\n",
              "  <tbody>\n",
              "    <tr>\n",
              "      <th>0</th>\n",
              "      <td>2020-11-28</td>\n",
              "      <td>29316</td>\n",
              "      <td>1031</td>\n",
              "      <td>844483</td>\n",
              "      <td>3471.47308</td>\n",
              "      <td>0.0352</td>\n",
              "      <td>11.0</td>\n",
              "      <td>258.0</td>\n",
              "      <td>0.083333</td>\n",
              "      <td>12.0</td>\n",
              "    </tr>\n",
              "    <tr>\n",
              "      <th>1</th>\n",
              "      <td>2020-11-27</td>\n",
              "      <td>29207</td>\n",
              "      <td>1029</td>\n",
              "      <td>844483</td>\n",
              "      <td>3458.56577</td>\n",
              "      <td>0.0352</td>\n",
              "      <td>11.0</td>\n",
              "      <td>257.0</td>\n",
              "      <td>0.041667</td>\n",
              "      <td>24.0</td>\n",
              "    </tr>\n",
              "    <tr>\n",
              "      <th>2</th>\n",
              "      <td>2020-11-26</td>\n",
              "      <td>29121</td>\n",
              "      <td>1028</td>\n",
              "      <td>844483</td>\n",
              "      <td>3448.38203</td>\n",
              "      <td>0.0353</td>\n",
              "      <td>11.0</td>\n",
              "      <td>256.0</td>\n",
              "      <td>0.166667</td>\n",
              "      <td>6.0</td>\n",
              "    </tr>\n",
              "    <tr>\n",
              "      <th>3</th>\n",
              "      <td>2020-11-25</td>\n",
              "      <td>29007</td>\n",
              "      <td>1024</td>\n",
              "      <td>844483</td>\n",
              "      <td>3434.88264</td>\n",
              "      <td>0.0353</td>\n",
              "      <td>11.0</td>\n",
              "      <td>255.0</td>\n",
              "      <td>0.125000</td>\n",
              "      <td>8.0</td>\n",
              "    </tr>\n",
              "    <tr>\n",
              "      <th>4</th>\n",
              "      <td>2020-11-24</td>\n",
              "      <td>28832</td>\n",
              "      <td>1021</td>\n",
              "      <td>844483</td>\n",
              "      <td>3414.15991</td>\n",
              "      <td>0.0354</td>\n",
              "      <td>11.0</td>\n",
              "      <td>254.0</td>\n",
              "      <td>0.027778</td>\n",
              "      <td>36.0</td>\n",
              "    </tr>\n",
              "    <tr>\n",
              "      <th>...</th>\n",
              "      <td>...</td>\n",
              "      <td>...</td>\n",
              "      <td>...</td>\n",
              "      <td>...</td>\n",
              "      <td>...</td>\n",
              "      <td>...</td>\n",
              "      <td>...</td>\n",
              "      <td>...</td>\n",
              "      <td>...</td>\n",
              "      <td>...</td>\n",
              "    </tr>\n",
              "    <tr>\n",
              "      <th>221</th>\n",
              "      <td>2020-04-07</td>\n",
              "      <td>129</td>\n",
              "      <td>6</td>\n",
              "      <td>844483</td>\n",
              "      <td>15.27562</td>\n",
              "      <td>0.0465</td>\n",
              "      <td>4.0</td>\n",
              "      <td>23.0</td>\n",
              "      <td>0.020833</td>\n",
              "      <td>48.0</td>\n",
              "    </tr>\n",
              "    <tr>\n",
              "      <th>223</th>\n",
              "      <td>2020-04-05</td>\n",
              "      <td>81</td>\n",
              "      <td>5</td>\n",
              "      <td>844483</td>\n",
              "      <td>9.59167</td>\n",
              "      <td>0.0617</td>\n",
              "      <td>4.0</td>\n",
              "      <td>21.0</td>\n",
              "      <td>0.020833</td>\n",
              "      <td>48.0</td>\n",
              "    </tr>\n",
              "    <tr>\n",
              "      <th>225</th>\n",
              "      <td>2020-04-03</td>\n",
              "      <td>70</td>\n",
              "      <td>4</td>\n",
              "      <td>844483</td>\n",
              "      <td>8.28910</td>\n",
              "      <td>0.0571</td>\n",
              "      <td>4.0</td>\n",
              "      <td>19.0</td>\n",
              "      <td>0.041667</td>\n",
              "      <td>24.0</td>\n",
              "    </tr>\n",
              "    <tr>\n",
              "      <th>227</th>\n",
              "      <td>2020-04-01</td>\n",
              "      <td>52</td>\n",
              "      <td>2</td>\n",
              "      <td>844483</td>\n",
              "      <td>6.15761</td>\n",
              "      <td>0.0385</td>\n",
              "      <td>4.0</td>\n",
              "      <td>17.0</td>\n",
              "      <td>0.020833</td>\n",
              "      <td>48.0</td>\n",
              "    </tr>\n",
              "    <tr>\n",
              "      <th>229</th>\n",
              "      <td>2020-03-30</td>\n",
              "      <td>33</td>\n",
              "      <td>1</td>\n",
              "      <td>844483</td>\n",
              "      <td>3.90772</td>\n",
              "      <td>0.0303</td>\n",
              "      <td>3.0</td>\n",
              "      <td>15.0</td>\n",
              "      <td>0.002778</td>\n",
              "      <td>360.0</td>\n",
              "    </tr>\n",
              "  </tbody>\n",
              "</table>\n",
              "<p>178 rows × 10 columns</p>\n",
              "</div>\n",
              "      <button class=\"colab-df-convert\" onclick=\"convertToInteractive('df-ffc14c13-1f0b-4693-b55c-1f4897da67fa')\"\n",
              "              title=\"Convert this dataframe to an interactive table.\"\n",
              "              style=\"display:none;\">\n",
              "        \n",
              "  <svg xmlns=\"http://www.w3.org/2000/svg\" height=\"24px\"viewBox=\"0 0 24 24\"\n",
              "       width=\"24px\">\n",
              "    <path d=\"M0 0h24v24H0V0z\" fill=\"none\"/>\n",
              "    <path d=\"M18.56 5.44l.94 2.06.94-2.06 2.06-.94-2.06-.94-.94-2.06-.94 2.06-2.06.94zm-11 1L8.5 8.5l.94-2.06 2.06-.94-2.06-.94L8.5 2.5l-.94 2.06-2.06.94zm10 10l.94 2.06.94-2.06 2.06-.94-2.06-.94-.94-2.06-.94 2.06-2.06.94z\"/><path d=\"M17.41 7.96l-1.37-1.37c-.4-.4-.92-.59-1.43-.59-.52 0-1.04.2-1.43.59L10.3 9.45l-7.72 7.72c-.78.78-.78 2.05 0 2.83L4 21.41c.39.39.9.59 1.41.59.51 0 1.02-.2 1.41-.59l7.78-7.78 2.81-2.81c.8-.78.8-2.07 0-2.86zM5.41 20L4 18.59l7.72-7.72 1.47 1.35L5.41 20z\"/>\n",
              "  </svg>\n",
              "      </button>\n",
              "      \n",
              "  <style>\n",
              "    .colab-df-container {\n",
              "      display:flex;\n",
              "      flex-wrap:wrap;\n",
              "      gap: 12px;\n",
              "    }\n",
              "\n",
              "    .colab-df-convert {\n",
              "      background-color: #E8F0FE;\n",
              "      border: none;\n",
              "      border-radius: 50%;\n",
              "      cursor: pointer;\n",
              "      display: none;\n",
              "      fill: #1967D2;\n",
              "      height: 32px;\n",
              "      padding: 0 0 0 0;\n",
              "      width: 32px;\n",
              "    }\n",
              "\n",
              "    .colab-df-convert:hover {\n",
              "      background-color: #E2EBFA;\n",
              "      box-shadow: 0px 1px 2px rgba(60, 64, 67, 0.3), 0px 1px 3px 1px rgba(60, 64, 67, 0.15);\n",
              "      fill: #174EA6;\n",
              "    }\n",
              "\n",
              "    [theme=dark] .colab-df-convert {\n",
              "      background-color: #3B4455;\n",
              "      fill: #D2E3FC;\n",
              "    }\n",
              "\n",
              "    [theme=dark] .colab-df-convert:hover {\n",
              "      background-color: #434B5C;\n",
              "      box-shadow: 0px 1px 3px 1px rgba(0, 0, 0, 0.15);\n",
              "      filter: drop-shadow(0px 1px 2px rgba(0, 0, 0, 0.3));\n",
              "      fill: #FFFFFF;\n",
              "    }\n",
              "  </style>\n",
              "\n",
              "      <script>\n",
              "        const buttonEl =\n",
              "          document.querySelector('#df-ffc14c13-1f0b-4693-b55c-1f4897da67fa button.colab-df-convert');\n",
              "        buttonEl.style.display =\n",
              "          google.colab.kernel.accessAllowed ? 'block' : 'none';\n",
              "\n",
              "        async function convertToInteractive(key) {\n",
              "          const element = document.querySelector('#df-ffc14c13-1f0b-4693-b55c-1f4897da67fa');\n",
              "          const dataTable =\n",
              "            await google.colab.kernel.invokeFunction('convertToInteractive',\n",
              "                                                     [key], {});\n",
              "          if (!dataTable) return;\n",
              "\n",
              "          const docLinkHtml = 'Like what you see? Visit the ' +\n",
              "            '<a target=\"_blank\" href=https://colab.research.google.com/notebooks/data_table.ipynb>data table notebook</a>'\n",
              "            + ' to learn more about interactive tables.';\n",
              "          element.innerHTML = '';\n",
              "          dataTable['output_type'] = 'display_data';\n",
              "          await google.colab.output.renderOutput(dataTable, element);\n",
              "          const docLink = document.createElement('div');\n",
              "          docLink.innerHTML = docLinkHtml;\n",
              "          element.appendChild(docLink);\n",
              "        }\n",
              "      </script>\n",
              "    </div>\n",
              "  </div>\n",
              "  "
            ]
          },
          "metadata": {},
          "execution_count": 15
        }
      ]
    },
    {
      "cell_type": "code",
      "metadata": {
        "colab": {
          "base_uri": "https://localhost:8080/",
          "height": 49
        },
        "id": "DESg1NiKngtC",
        "outputId": "6be5b389-5708-4ec0-ed68-abf65e34b9ac"
      },
      "source": [
        "valor = str(bd['mortes_por_hora'][bd['mortes_por_hora']>=0].min())\n",
        "bd.query('mortes_por_hora == '+'\"'+valor+'\"')[::8]"
      ],
      "execution_count": 16,
      "outputs": [
        {
          "output_type": "execute_result",
          "data": {
            "text/plain": [
              "Empty DataFrame\n",
              "Columns: [date, confirmed, deaths, estimated_population, confirmed_per_100k_inhabitants, death_rate, Mes, dias_corridos, mortes_por_hora, tempo_por_morte]\n",
              "Index: []"
            ],
            "text/html": [
              "\n",
              "  <div id=\"df-8cb7535a-c74d-491b-a136-89dccc80f5b7\">\n",
              "    <div class=\"colab-df-container\">\n",
              "      <div>\n",
              "<style scoped>\n",
              "    .dataframe tbody tr th:only-of-type {\n",
              "        vertical-align: middle;\n",
              "    }\n",
              "\n",
              "    .dataframe tbody tr th {\n",
              "        vertical-align: top;\n",
              "    }\n",
              "\n",
              "    .dataframe thead th {\n",
              "        text-align: right;\n",
              "    }\n",
              "</style>\n",
              "<table border=\"1\" class=\"dataframe\">\n",
              "  <thead>\n",
              "    <tr style=\"text-align: right;\">\n",
              "      <th></th>\n",
              "      <th>date</th>\n",
              "      <th>confirmed</th>\n",
              "      <th>deaths</th>\n",
              "      <th>estimated_population</th>\n",
              "      <th>confirmed_per_100k_inhabitants</th>\n",
              "      <th>death_rate</th>\n",
              "      <th>Mes</th>\n",
              "      <th>dias_corridos</th>\n",
              "      <th>mortes_por_hora</th>\n",
              "      <th>tempo_por_morte</th>\n",
              "    </tr>\n",
              "  </thead>\n",
              "  <tbody>\n",
              "  </tbody>\n",
              "</table>\n",
              "</div>\n",
              "      <button class=\"colab-df-convert\" onclick=\"convertToInteractive('df-8cb7535a-c74d-491b-a136-89dccc80f5b7')\"\n",
              "              title=\"Convert this dataframe to an interactive table.\"\n",
              "              style=\"display:none;\">\n",
              "        \n",
              "  <svg xmlns=\"http://www.w3.org/2000/svg\" height=\"24px\"viewBox=\"0 0 24 24\"\n",
              "       width=\"24px\">\n",
              "    <path d=\"M0 0h24v24H0V0z\" fill=\"none\"/>\n",
              "    <path d=\"M18.56 5.44l.94 2.06.94-2.06 2.06-.94-2.06-.94-.94-2.06-.94 2.06-2.06.94zm-11 1L8.5 8.5l.94-2.06 2.06-.94-2.06-.94L8.5 2.5l-.94 2.06-2.06.94zm10 10l.94 2.06.94-2.06 2.06-.94-2.06-.94-.94-2.06-.94 2.06-2.06.94z\"/><path d=\"M17.41 7.96l-1.37-1.37c-.4-.4-.92-.59-1.43-.59-.52 0-1.04.2-1.43.59L10.3 9.45l-7.72 7.72c-.78.78-.78 2.05 0 2.83L4 21.41c.39.39.9.59 1.41.59.51 0 1.02-.2 1.41-.59l7.78-7.78 2.81-2.81c.8-.78.8-2.07 0-2.86zM5.41 20L4 18.59l7.72-7.72 1.47 1.35L5.41 20z\"/>\n",
              "  </svg>\n",
              "      </button>\n",
              "      \n",
              "  <style>\n",
              "    .colab-df-container {\n",
              "      display:flex;\n",
              "      flex-wrap:wrap;\n",
              "      gap: 12px;\n",
              "    }\n",
              "\n",
              "    .colab-df-convert {\n",
              "      background-color: #E8F0FE;\n",
              "      border: none;\n",
              "      border-radius: 50%;\n",
              "      cursor: pointer;\n",
              "      display: none;\n",
              "      fill: #1967D2;\n",
              "      height: 32px;\n",
              "      padding: 0 0 0 0;\n",
              "      width: 32px;\n",
              "    }\n",
              "\n",
              "    .colab-df-convert:hover {\n",
              "      background-color: #E2EBFA;\n",
              "      box-shadow: 0px 1px 2px rgba(60, 64, 67, 0.3), 0px 1px 3px 1px rgba(60, 64, 67, 0.15);\n",
              "      fill: #174EA6;\n",
              "    }\n",
              "\n",
              "    [theme=dark] .colab-df-convert {\n",
              "      background-color: #3B4455;\n",
              "      fill: #D2E3FC;\n",
              "    }\n",
              "\n",
              "    [theme=dark] .colab-df-convert:hover {\n",
              "      background-color: #434B5C;\n",
              "      box-shadow: 0px 1px 3px 1px rgba(0, 0, 0, 0.15);\n",
              "      filter: drop-shadow(0px 1px 2px rgba(0, 0, 0, 0.3));\n",
              "      fill: #FFFFFF;\n",
              "    }\n",
              "  </style>\n",
              "\n",
              "      <script>\n",
              "        const buttonEl =\n",
              "          document.querySelector('#df-8cb7535a-c74d-491b-a136-89dccc80f5b7 button.colab-df-convert');\n",
              "        buttonEl.style.display =\n",
              "          google.colab.kernel.accessAllowed ? 'block' : 'none';\n",
              "\n",
              "        async function convertToInteractive(key) {\n",
              "          const element = document.querySelector('#df-8cb7535a-c74d-491b-a136-89dccc80f5b7');\n",
              "          const dataTable =\n",
              "            await google.colab.kernel.invokeFunction('convertToInteractive',\n",
              "                                                     [key], {});\n",
              "          if (!dataTable) return;\n",
              "\n",
              "          const docLinkHtml = 'Like what you see? Visit the ' +\n",
              "            '<a target=\"_blank\" href=https://colab.research.google.com/notebooks/data_table.ipynb>data table notebook</a>'\n",
              "            + ' to learn more about interactive tables.';\n",
              "          element.innerHTML = '';\n",
              "          dataTable['output_type'] = 'display_data';\n",
              "          await google.colab.output.renderOutput(dataTable, element);\n",
              "          const docLink = document.createElement('div');\n",
              "          docLink.innerHTML = docLinkHtml;\n",
              "          element.appendChild(docLink);\n",
              "        }\n",
              "      </script>\n",
              "    </div>\n",
              "  </div>\n",
              "  "
            ]
          },
          "metadata": {},
          "execution_count": 16
        }
      ]
    },
    {
      "cell_type": "code",
      "metadata": {
        "colab": {
          "base_uri": "https://localhost:8080/",
          "height": 49
        },
        "id": "mqmDj-2ctTfH",
        "outputId": "db02e225-1ce6-4e64-f321-2cc38f1d31e5"
      },
      "source": [
        "valor = str(bd['tempo_por_morte'][bd['tempo_por_morte']>=0].min())\n",
        "bd.query('tempo_por_morte == '+'\"'+valor+'\"')"
      ],
      "execution_count": 17,
      "outputs": [
        {
          "output_type": "execute_result",
          "data": {
            "text/plain": [
              "Empty DataFrame\n",
              "Columns: [date, confirmed, deaths, estimated_population, confirmed_per_100k_inhabitants, death_rate, Mes, dias_corridos, mortes_por_hora, tempo_por_morte]\n",
              "Index: []"
            ],
            "text/html": [
              "\n",
              "  <div id=\"df-0d4aadc6-825e-43f9-84c9-46be23aa1983\">\n",
              "    <div class=\"colab-df-container\">\n",
              "      <div>\n",
              "<style scoped>\n",
              "    .dataframe tbody tr th:only-of-type {\n",
              "        vertical-align: middle;\n",
              "    }\n",
              "\n",
              "    .dataframe tbody tr th {\n",
              "        vertical-align: top;\n",
              "    }\n",
              "\n",
              "    .dataframe thead th {\n",
              "        text-align: right;\n",
              "    }\n",
              "</style>\n",
              "<table border=\"1\" class=\"dataframe\">\n",
              "  <thead>\n",
              "    <tr style=\"text-align: right;\">\n",
              "      <th></th>\n",
              "      <th>date</th>\n",
              "      <th>confirmed</th>\n",
              "      <th>deaths</th>\n",
              "      <th>estimated_population</th>\n",
              "      <th>confirmed_per_100k_inhabitants</th>\n",
              "      <th>death_rate</th>\n",
              "      <th>Mes</th>\n",
              "      <th>dias_corridos</th>\n",
              "      <th>mortes_por_hora</th>\n",
              "      <th>tempo_por_morte</th>\n",
              "    </tr>\n",
              "  </thead>\n",
              "  <tbody>\n",
              "  </tbody>\n",
              "</table>\n",
              "</div>\n",
              "      <button class=\"colab-df-convert\" onclick=\"convertToInteractive('df-0d4aadc6-825e-43f9-84c9-46be23aa1983')\"\n",
              "              title=\"Convert this dataframe to an interactive table.\"\n",
              "              style=\"display:none;\">\n",
              "        \n",
              "  <svg xmlns=\"http://www.w3.org/2000/svg\" height=\"24px\"viewBox=\"0 0 24 24\"\n",
              "       width=\"24px\">\n",
              "    <path d=\"M0 0h24v24H0V0z\" fill=\"none\"/>\n",
              "    <path d=\"M18.56 5.44l.94 2.06.94-2.06 2.06-.94-2.06-.94-.94-2.06-.94 2.06-2.06.94zm-11 1L8.5 8.5l.94-2.06 2.06-.94-2.06-.94L8.5 2.5l-.94 2.06-2.06.94zm10 10l.94 2.06.94-2.06 2.06-.94-2.06-.94-.94-2.06-.94 2.06-2.06.94z\"/><path d=\"M17.41 7.96l-1.37-1.37c-.4-.4-.92-.59-1.43-.59-.52 0-1.04.2-1.43.59L10.3 9.45l-7.72 7.72c-.78.78-.78 2.05 0 2.83L4 21.41c.39.39.9.59 1.41.59.51 0 1.02-.2 1.41-.59l7.78-7.78 2.81-2.81c.8-.78.8-2.07 0-2.86zM5.41 20L4 18.59l7.72-7.72 1.47 1.35L5.41 20z\"/>\n",
              "  </svg>\n",
              "      </button>\n",
              "      \n",
              "  <style>\n",
              "    .colab-df-container {\n",
              "      display:flex;\n",
              "      flex-wrap:wrap;\n",
              "      gap: 12px;\n",
              "    }\n",
              "\n",
              "    .colab-df-convert {\n",
              "      background-color: #E8F0FE;\n",
              "      border: none;\n",
              "      border-radius: 50%;\n",
              "      cursor: pointer;\n",
              "      display: none;\n",
              "      fill: #1967D2;\n",
              "      height: 32px;\n",
              "      padding: 0 0 0 0;\n",
              "      width: 32px;\n",
              "    }\n",
              "\n",
              "    .colab-df-convert:hover {\n",
              "      background-color: #E2EBFA;\n",
              "      box-shadow: 0px 1px 2px rgba(60, 64, 67, 0.3), 0px 1px 3px 1px rgba(60, 64, 67, 0.15);\n",
              "      fill: #174EA6;\n",
              "    }\n",
              "\n",
              "    [theme=dark] .colab-df-convert {\n",
              "      background-color: #3B4455;\n",
              "      fill: #D2E3FC;\n",
              "    }\n",
              "\n",
              "    [theme=dark] .colab-df-convert:hover {\n",
              "      background-color: #434B5C;\n",
              "      box-shadow: 0px 1px 3px 1px rgba(0, 0, 0, 0.15);\n",
              "      filter: drop-shadow(0px 1px 2px rgba(0, 0, 0, 0.3));\n",
              "      fill: #FFFFFF;\n",
              "    }\n",
              "  </style>\n",
              "\n",
              "      <script>\n",
              "        const buttonEl =\n",
              "          document.querySelector('#df-0d4aadc6-825e-43f9-84c9-46be23aa1983 button.colab-df-convert');\n",
              "        buttonEl.style.display =\n",
              "          google.colab.kernel.accessAllowed ? 'block' : 'none';\n",
              "\n",
              "        async function convertToInteractive(key) {\n",
              "          const element = document.querySelector('#df-0d4aadc6-825e-43f9-84c9-46be23aa1983');\n",
              "          const dataTable =\n",
              "            await google.colab.kernel.invokeFunction('convertToInteractive',\n",
              "                                                     [key], {});\n",
              "          if (!dataTable) return;\n",
              "\n",
              "          const docLinkHtml = 'Like what you see? Visit the ' +\n",
              "            '<a target=\"_blank\" href=https://colab.research.google.com/notebooks/data_table.ipynb>data table notebook</a>'\n",
              "            + ' to learn more about interactive tables.';\n",
              "          element.innerHTML = '';\n",
              "          dataTable['output_type'] = 'display_data';\n",
              "          await google.colab.output.renderOutput(dataTable, element);\n",
              "          const docLink = document.createElement('div');\n",
              "          docLink.innerHTML = docLinkHtml;\n",
              "          element.appendChild(docLink);\n",
              "        }\n",
              "      </script>\n",
              "    </div>\n",
              "  </div>\n",
              "  "
            ]
          },
          "metadata": {},
          "execution_count": 17
        }
      ]
    },
    {
      "cell_type": "markdown",
      "metadata": {
        "id": "HGdtsWeLtfZs"
      },
      "source": [
        "Acima podemos ver alguns dos 58 registros que possuem o valor mínimo positivo para a coluna 'mortes_por_hora' que é 0 e o valor mínimo para a coluna 'tempo_por_morte' é 1.04 horas ou 1 hora e 3 minutos aproximadamente, que é um valor extremamente alto, pois estamos falando de uma vida a cada 63 minutos."
      ]
    },
    {
      "cell_type": "code",
      "metadata": {
        "colab": {
          "base_uri": "https://localhost:8080/",
          "height": 81
        },
        "id": "LBfbC4i2vgxU",
        "outputId": "8cac0780-9bfb-4065-9974-8315e610e52e"
      },
      "source": [
        "bd[bd['mortes_por_hora']==bd['mortes_por_hora'].max()]"
      ],
      "execution_count": 18,
      "outputs": [
        {
          "output_type": "execute_result",
          "data": {
            "text/plain": [
              "           date  confirmed  deaths  estimated_population  \\\n",
              "142  2020-06-25       6775     352                844483   \n",
              "\n",
              "     confirmed_per_100k_inhabitants  death_rate  Mes  dias_corridos  \\\n",
              "142                         802.266       0.052  6.0          102.0   \n",
              "\n",
              "     mortes_por_hora  tempo_por_morte  \n",
              "142         0.958333             1.04  "
            ],
            "text/html": [
              "\n",
              "  <div id=\"df-129bf284-bd9f-470b-ae60-8fea65b596e3\">\n",
              "    <div class=\"colab-df-container\">\n",
              "      <div>\n",
              "<style scoped>\n",
              "    .dataframe tbody tr th:only-of-type {\n",
              "        vertical-align: middle;\n",
              "    }\n",
              "\n",
              "    .dataframe tbody tr th {\n",
              "        vertical-align: top;\n",
              "    }\n",
              "\n",
              "    .dataframe thead th {\n",
              "        text-align: right;\n",
              "    }\n",
              "</style>\n",
              "<table border=\"1\" class=\"dataframe\">\n",
              "  <thead>\n",
              "    <tr style=\"text-align: right;\">\n",
              "      <th></th>\n",
              "      <th>date</th>\n",
              "      <th>confirmed</th>\n",
              "      <th>deaths</th>\n",
              "      <th>estimated_population</th>\n",
              "      <th>confirmed_per_100k_inhabitants</th>\n",
              "      <th>death_rate</th>\n",
              "      <th>Mes</th>\n",
              "      <th>dias_corridos</th>\n",
              "      <th>mortes_por_hora</th>\n",
              "      <th>tempo_por_morte</th>\n",
              "    </tr>\n",
              "  </thead>\n",
              "  <tbody>\n",
              "    <tr>\n",
              "      <th>142</th>\n",
              "      <td>2020-06-25</td>\n",
              "      <td>6775</td>\n",
              "      <td>352</td>\n",
              "      <td>844483</td>\n",
              "      <td>802.266</td>\n",
              "      <td>0.052</td>\n",
              "      <td>6.0</td>\n",
              "      <td>102.0</td>\n",
              "      <td>0.958333</td>\n",
              "      <td>1.04</td>\n",
              "    </tr>\n",
              "  </tbody>\n",
              "</table>\n",
              "</div>\n",
              "      <button class=\"colab-df-convert\" onclick=\"convertToInteractive('df-129bf284-bd9f-470b-ae60-8fea65b596e3')\"\n",
              "              title=\"Convert this dataframe to an interactive table.\"\n",
              "              style=\"display:none;\">\n",
              "        \n",
              "  <svg xmlns=\"http://www.w3.org/2000/svg\" height=\"24px\"viewBox=\"0 0 24 24\"\n",
              "       width=\"24px\">\n",
              "    <path d=\"M0 0h24v24H0V0z\" fill=\"none\"/>\n",
              "    <path d=\"M18.56 5.44l.94 2.06.94-2.06 2.06-.94-2.06-.94-.94-2.06-.94 2.06-2.06.94zm-11 1L8.5 8.5l.94-2.06 2.06-.94-2.06-.94L8.5 2.5l-.94 2.06-2.06.94zm10 10l.94 2.06.94-2.06 2.06-.94-2.06-.94-.94-2.06-.94 2.06-2.06.94z\"/><path d=\"M17.41 7.96l-1.37-1.37c-.4-.4-.92-.59-1.43-.59-.52 0-1.04.2-1.43.59L10.3 9.45l-7.72 7.72c-.78.78-.78 2.05 0 2.83L4 21.41c.39.39.9.59 1.41.59.51 0 1.02-.2 1.41-.59l7.78-7.78 2.81-2.81c.8-.78.8-2.07 0-2.86zM5.41 20L4 18.59l7.72-7.72 1.47 1.35L5.41 20z\"/>\n",
              "  </svg>\n",
              "      </button>\n",
              "      \n",
              "  <style>\n",
              "    .colab-df-container {\n",
              "      display:flex;\n",
              "      flex-wrap:wrap;\n",
              "      gap: 12px;\n",
              "    }\n",
              "\n",
              "    .colab-df-convert {\n",
              "      background-color: #E8F0FE;\n",
              "      border: none;\n",
              "      border-radius: 50%;\n",
              "      cursor: pointer;\n",
              "      display: none;\n",
              "      fill: #1967D2;\n",
              "      height: 32px;\n",
              "      padding: 0 0 0 0;\n",
              "      width: 32px;\n",
              "    }\n",
              "\n",
              "    .colab-df-convert:hover {\n",
              "      background-color: #E2EBFA;\n",
              "      box-shadow: 0px 1px 2px rgba(60, 64, 67, 0.3), 0px 1px 3px 1px rgba(60, 64, 67, 0.15);\n",
              "      fill: #174EA6;\n",
              "    }\n",
              "\n",
              "    [theme=dark] .colab-df-convert {\n",
              "      background-color: #3B4455;\n",
              "      fill: #D2E3FC;\n",
              "    }\n",
              "\n",
              "    [theme=dark] .colab-df-convert:hover {\n",
              "      background-color: #434B5C;\n",
              "      box-shadow: 0px 1px 3px 1px rgba(0, 0, 0, 0.15);\n",
              "      filter: drop-shadow(0px 1px 2px rgba(0, 0, 0, 0.3));\n",
              "      fill: #FFFFFF;\n",
              "    }\n",
              "  </style>\n",
              "\n",
              "      <script>\n",
              "        const buttonEl =\n",
              "          document.querySelector('#df-129bf284-bd9f-470b-ae60-8fea65b596e3 button.colab-df-convert');\n",
              "        buttonEl.style.display =\n",
              "          google.colab.kernel.accessAllowed ? 'block' : 'none';\n",
              "\n",
              "        async function convertToInteractive(key) {\n",
              "          const element = document.querySelector('#df-129bf284-bd9f-470b-ae60-8fea65b596e3');\n",
              "          const dataTable =\n",
              "            await google.colab.kernel.invokeFunction('convertToInteractive',\n",
              "                                                     [key], {});\n",
              "          if (!dataTable) return;\n",
              "\n",
              "          const docLinkHtml = 'Like what you see? Visit the ' +\n",
              "            '<a target=\"_blank\" href=https://colab.research.google.com/notebooks/data_table.ipynb>data table notebook</a>'\n",
              "            + ' to learn more about interactive tables.';\n",
              "          element.innerHTML = '';\n",
              "          dataTable['output_type'] = 'display_data';\n",
              "          await google.colab.output.renderOutput(dataTable, element);\n",
              "          const docLink = document.createElement('div');\n",
              "          docLink.innerHTML = docLinkHtml;\n",
              "          element.appendChild(docLink);\n",
              "        }\n",
              "      </script>\n",
              "    </div>\n",
              "  </div>\n",
              "  "
            ]
          },
          "metadata": {},
          "execution_count": 18
        }
      ]
    },
    {
      "cell_type": "code",
      "metadata": {
        "colab": {
          "base_uri": "https://localhost:8080/",
          "height": 81
        },
        "id": "2c6dQQ8jv1g6",
        "outputId": "2eb025bd-1f96-4bf9-e3de-ab11d0037fd7"
      },
      "source": [
        "bd[bd['tempo_por_morte']==bd['tempo_por_morte'].max()]"
      ],
      "execution_count": 19,
      "outputs": [
        {
          "output_type": "execute_result",
          "data": {
            "text/plain": [
              "           date  confirmed  deaths  estimated_population  \\\n",
              "229  2020-03-30         33       1                844483   \n",
              "\n",
              "     confirmed_per_100k_inhabitants  death_rate  Mes  dias_corridos  \\\n",
              "229                         3.90772      0.0303  3.0           15.0   \n",
              "\n",
              "     mortes_por_hora  tempo_por_morte  \n",
              "229         0.002778            360.0  "
            ],
            "text/html": [
              "\n",
              "  <div id=\"df-afc14cf4-336b-457b-bfb3-890dc94126be\">\n",
              "    <div class=\"colab-df-container\">\n",
              "      <div>\n",
              "<style scoped>\n",
              "    .dataframe tbody tr th:only-of-type {\n",
              "        vertical-align: middle;\n",
              "    }\n",
              "\n",
              "    .dataframe tbody tr th {\n",
              "        vertical-align: top;\n",
              "    }\n",
              "\n",
              "    .dataframe thead th {\n",
              "        text-align: right;\n",
              "    }\n",
              "</style>\n",
              "<table border=\"1\" class=\"dataframe\">\n",
              "  <thead>\n",
              "    <tr style=\"text-align: right;\">\n",
              "      <th></th>\n",
              "      <th>date</th>\n",
              "      <th>confirmed</th>\n",
              "      <th>deaths</th>\n",
              "      <th>estimated_population</th>\n",
              "      <th>confirmed_per_100k_inhabitants</th>\n",
              "      <th>death_rate</th>\n",
              "      <th>Mes</th>\n",
              "      <th>dias_corridos</th>\n",
              "      <th>mortes_por_hora</th>\n",
              "      <th>tempo_por_morte</th>\n",
              "    </tr>\n",
              "  </thead>\n",
              "  <tbody>\n",
              "    <tr>\n",
              "      <th>229</th>\n",
              "      <td>2020-03-30</td>\n",
              "      <td>33</td>\n",
              "      <td>1</td>\n",
              "      <td>844483</td>\n",
              "      <td>3.90772</td>\n",
              "      <td>0.0303</td>\n",
              "      <td>3.0</td>\n",
              "      <td>15.0</td>\n",
              "      <td>0.002778</td>\n",
              "      <td>360.0</td>\n",
              "    </tr>\n",
              "  </tbody>\n",
              "</table>\n",
              "</div>\n",
              "      <button class=\"colab-df-convert\" onclick=\"convertToInteractive('df-afc14cf4-336b-457b-bfb3-890dc94126be')\"\n",
              "              title=\"Convert this dataframe to an interactive table.\"\n",
              "              style=\"display:none;\">\n",
              "        \n",
              "  <svg xmlns=\"http://www.w3.org/2000/svg\" height=\"24px\"viewBox=\"0 0 24 24\"\n",
              "       width=\"24px\">\n",
              "    <path d=\"M0 0h24v24H0V0z\" fill=\"none\"/>\n",
              "    <path d=\"M18.56 5.44l.94 2.06.94-2.06 2.06-.94-2.06-.94-.94-2.06-.94 2.06-2.06.94zm-11 1L8.5 8.5l.94-2.06 2.06-.94-2.06-.94L8.5 2.5l-.94 2.06-2.06.94zm10 10l.94 2.06.94-2.06 2.06-.94-2.06-.94-.94-2.06-.94 2.06-2.06.94z\"/><path d=\"M17.41 7.96l-1.37-1.37c-.4-.4-.92-.59-1.43-.59-.52 0-1.04.2-1.43.59L10.3 9.45l-7.72 7.72c-.78.78-.78 2.05 0 2.83L4 21.41c.39.39.9.59 1.41.59.51 0 1.02-.2 1.41-.59l7.78-7.78 2.81-2.81c.8-.78.8-2.07 0-2.86zM5.41 20L4 18.59l7.72-7.72 1.47 1.35L5.41 20z\"/>\n",
              "  </svg>\n",
              "      </button>\n",
              "      \n",
              "  <style>\n",
              "    .colab-df-container {\n",
              "      display:flex;\n",
              "      flex-wrap:wrap;\n",
              "      gap: 12px;\n",
              "    }\n",
              "\n",
              "    .colab-df-convert {\n",
              "      background-color: #E8F0FE;\n",
              "      border: none;\n",
              "      border-radius: 50%;\n",
              "      cursor: pointer;\n",
              "      display: none;\n",
              "      fill: #1967D2;\n",
              "      height: 32px;\n",
              "      padding: 0 0 0 0;\n",
              "      width: 32px;\n",
              "    }\n",
              "\n",
              "    .colab-df-convert:hover {\n",
              "      background-color: #E2EBFA;\n",
              "      box-shadow: 0px 1px 2px rgba(60, 64, 67, 0.3), 0px 1px 3px 1px rgba(60, 64, 67, 0.15);\n",
              "      fill: #174EA6;\n",
              "    }\n",
              "\n",
              "    [theme=dark] .colab-df-convert {\n",
              "      background-color: #3B4455;\n",
              "      fill: #D2E3FC;\n",
              "    }\n",
              "\n",
              "    [theme=dark] .colab-df-convert:hover {\n",
              "      background-color: #434B5C;\n",
              "      box-shadow: 0px 1px 3px 1px rgba(0, 0, 0, 0.15);\n",
              "      filter: drop-shadow(0px 1px 2px rgba(0, 0, 0, 0.3));\n",
              "      fill: #FFFFFF;\n",
              "    }\n",
              "  </style>\n",
              "\n",
              "      <script>\n",
              "        const buttonEl =\n",
              "          document.querySelector('#df-afc14cf4-336b-457b-bfb3-890dc94126be button.colab-df-convert');\n",
              "        buttonEl.style.display =\n",
              "          google.colab.kernel.accessAllowed ? 'block' : 'none';\n",
              "\n",
              "        async function convertToInteractive(key) {\n",
              "          const element = document.querySelector('#df-afc14cf4-336b-457b-bfb3-890dc94126be');\n",
              "          const dataTable =\n",
              "            await google.colab.kernel.invokeFunction('convertToInteractive',\n",
              "                                                     [key], {});\n",
              "          if (!dataTable) return;\n",
              "\n",
              "          const docLinkHtml = 'Like what you see? Visit the ' +\n",
              "            '<a target=\"_blank\" href=https://colab.research.google.com/notebooks/data_table.ipynb>data table notebook</a>'\n",
              "            + ' to learn more about interactive tables.';\n",
              "          element.innerHTML = '';\n",
              "          dataTable['output_type'] = 'display_data';\n",
              "          await google.colab.output.renderOutput(dataTable, element);\n",
              "          const docLink = document.createElement('div');\n",
              "          docLink.innerHTML = docLinkHtml;\n",
              "          element.appendChild(docLink);\n",
              "        }\n",
              "      </script>\n",
              "    </div>\n",
              "  </div>\n",
              "  "
            ]
          },
          "metadata": {},
          "execution_count": 19
        }
      ]
    },
    {
      "cell_type": "code",
      "metadata": {
        "colab": {
          "base_uri": "https://localhost:8080/",
          "height": 49
        },
        "id": "vdIOdoRMwKo8",
        "outputId": "bfbf77c6-a8db-4543-bb33-2742442b2193"
      },
      "source": [
        "valor = str(bd['mortes_por_hora'][bd['mortes_por_hora']>0].min())\n",
        "bd.query('mortes_por_hora == '+'\"'+valor+'\"')"
      ],
      "execution_count": 20,
      "outputs": [
        {
          "output_type": "execute_result",
          "data": {
            "text/plain": [
              "Empty DataFrame\n",
              "Columns: [date, confirmed, deaths, estimated_population, confirmed_per_100k_inhabitants, death_rate, Mes, dias_corridos, mortes_por_hora, tempo_por_morte]\n",
              "Index: []"
            ],
            "text/html": [
              "\n",
              "  <div id=\"df-45303b45-1c5e-417a-8f94-1b0437859834\">\n",
              "    <div class=\"colab-df-container\">\n",
              "      <div>\n",
              "<style scoped>\n",
              "    .dataframe tbody tr th:only-of-type {\n",
              "        vertical-align: middle;\n",
              "    }\n",
              "\n",
              "    .dataframe tbody tr th {\n",
              "        vertical-align: top;\n",
              "    }\n",
              "\n",
              "    .dataframe thead th {\n",
              "        text-align: right;\n",
              "    }\n",
              "</style>\n",
              "<table border=\"1\" class=\"dataframe\">\n",
              "  <thead>\n",
              "    <tr style=\"text-align: right;\">\n",
              "      <th></th>\n",
              "      <th>date</th>\n",
              "      <th>confirmed</th>\n",
              "      <th>deaths</th>\n",
              "      <th>estimated_population</th>\n",
              "      <th>confirmed_per_100k_inhabitants</th>\n",
              "      <th>death_rate</th>\n",
              "      <th>Mes</th>\n",
              "      <th>dias_corridos</th>\n",
              "      <th>mortes_por_hora</th>\n",
              "      <th>tempo_por_morte</th>\n",
              "    </tr>\n",
              "  </thead>\n",
              "  <tbody>\n",
              "  </tbody>\n",
              "</table>\n",
              "</div>\n",
              "      <button class=\"colab-df-convert\" onclick=\"convertToInteractive('df-45303b45-1c5e-417a-8f94-1b0437859834')\"\n",
              "              title=\"Convert this dataframe to an interactive table.\"\n",
              "              style=\"display:none;\">\n",
              "        \n",
              "  <svg xmlns=\"http://www.w3.org/2000/svg\" height=\"24px\"viewBox=\"0 0 24 24\"\n",
              "       width=\"24px\">\n",
              "    <path d=\"M0 0h24v24H0V0z\" fill=\"none\"/>\n",
              "    <path d=\"M18.56 5.44l.94 2.06.94-2.06 2.06-.94-2.06-.94-.94-2.06-.94 2.06-2.06.94zm-11 1L8.5 8.5l.94-2.06 2.06-.94-2.06-.94L8.5 2.5l-.94 2.06-2.06.94zm10 10l.94 2.06.94-2.06 2.06-.94-2.06-.94-.94-2.06-.94 2.06-2.06.94z\"/><path d=\"M17.41 7.96l-1.37-1.37c-.4-.4-.92-.59-1.43-.59-.52 0-1.04.2-1.43.59L10.3 9.45l-7.72 7.72c-.78.78-.78 2.05 0 2.83L4 21.41c.39.39.9.59 1.41.59.51 0 1.02-.2 1.41-.59l7.78-7.78 2.81-2.81c.8-.78.8-2.07 0-2.86zM5.41 20L4 18.59l7.72-7.72 1.47 1.35L5.41 20z\"/>\n",
              "  </svg>\n",
              "      </button>\n",
              "      \n",
              "  <style>\n",
              "    .colab-df-container {\n",
              "      display:flex;\n",
              "      flex-wrap:wrap;\n",
              "      gap: 12px;\n",
              "    }\n",
              "\n",
              "    .colab-df-convert {\n",
              "      background-color: #E8F0FE;\n",
              "      border: none;\n",
              "      border-radius: 50%;\n",
              "      cursor: pointer;\n",
              "      display: none;\n",
              "      fill: #1967D2;\n",
              "      height: 32px;\n",
              "      padding: 0 0 0 0;\n",
              "      width: 32px;\n",
              "    }\n",
              "\n",
              "    .colab-df-convert:hover {\n",
              "      background-color: #E2EBFA;\n",
              "      box-shadow: 0px 1px 2px rgba(60, 64, 67, 0.3), 0px 1px 3px 1px rgba(60, 64, 67, 0.15);\n",
              "      fill: #174EA6;\n",
              "    }\n",
              "\n",
              "    [theme=dark] .colab-df-convert {\n",
              "      background-color: #3B4455;\n",
              "      fill: #D2E3FC;\n",
              "    }\n",
              "\n",
              "    [theme=dark] .colab-df-convert:hover {\n",
              "      background-color: #434B5C;\n",
              "      box-shadow: 0px 1px 3px 1px rgba(0, 0, 0, 0.15);\n",
              "      filter: drop-shadow(0px 1px 2px rgba(0, 0, 0, 0.3));\n",
              "      fill: #FFFFFF;\n",
              "    }\n",
              "  </style>\n",
              "\n",
              "      <script>\n",
              "        const buttonEl =\n",
              "          document.querySelector('#df-45303b45-1c5e-417a-8f94-1b0437859834 button.colab-df-convert');\n",
              "        buttonEl.style.display =\n",
              "          google.colab.kernel.accessAllowed ? 'block' : 'none';\n",
              "\n",
              "        async function convertToInteractive(key) {\n",
              "          const element = document.querySelector('#df-45303b45-1c5e-417a-8f94-1b0437859834');\n",
              "          const dataTable =\n",
              "            await google.colab.kernel.invokeFunction('convertToInteractive',\n",
              "                                                     [key], {});\n",
              "          if (!dataTable) return;\n",
              "\n",
              "          const docLinkHtml = 'Like what you see? Visit the ' +\n",
              "            '<a target=\"_blank\" href=https://colab.research.google.com/notebooks/data_table.ipynb>data table notebook</a>'\n",
              "            + ' to learn more about interactive tables.';\n",
              "          element.innerHTML = '';\n",
              "          dataTable['output_type'] = 'display_data';\n",
              "          await google.colab.output.renderOutput(dataTable, element);\n",
              "          const docLink = document.createElement('div');\n",
              "          docLink.innerHTML = docLinkHtml;\n",
              "          element.appendChild(docLink);\n",
              "        }\n",
              "      </script>\n",
              "    </div>\n",
              "  </div>\n",
              "  "
            ]
          },
          "metadata": {},
          "execution_count": 20
        }
      ]
    },
    {
      "cell_type": "markdown",
      "metadata": {
        "id": "P5AsD5ZrwV9D"
      },
      "source": [
        "Acima é possível ver que no início da pandemia, 15 dias após o início da base de dados houve a primeira morte e esse foi o dia com o maior valor 'tempo_por_morte', sendo 360 horas do início dos registros no Brasil até a primeira morte.\n",
        "\n",
        "Além disso, é possível notar que o maior valor da coluna 'mortes_por_hora', 0.958333, coincide com o menor da coluna 'tempo_por_morte', 1.04. O mesmo ocorre com o contrário, pois o maior valor da coluna 'tempo_por_morte', 360, coincide com o menor, após o 0, da coluna 'mortes_por hora', 0.002778."
      ]
    },
    {
      "cell_type": "markdown",
      "metadata": {
        "id": "RbcO6FlACIqM"
      },
      "source": [
        "**2 - Agrupamento**"
      ]
    },
    {
      "cell_type": "code",
      "metadata": {
        "colab": {
          "base_uri": "https://localhost:8080/"
        },
        "id": "7QBfMuE6De2d",
        "outputId": "2a9f218b-2225-4528-d87f-4dec9b031319"
      },
      "source": [
        "a = bd.groupby('tempo_por_morte')['tempo_por_morte'].count()\n",
        "a"
      ],
      "execution_count": 21,
      "outputs": [
        {
          "output_type": "execute_result",
          "data": {
            "text/plain": [
              "tempo_por_morte\n",
              "-24.00      1\n",
              "-12.00      1\n",
              " 1.04       1\n",
              " 1.20       1\n",
              " 1.33       2\n",
              " 1.41       2\n",
              " 1.60       2\n",
              " 1.71       3\n",
              " 1.85       2\n",
              " 2.00       4\n",
              " 2.18       8\n",
              " 2.40       4\n",
              " 2.67       8\n",
              " 3.00       9\n",
              " 3.43       8\n",
              " 3.69       2\n",
              " 4.00       8\n",
              " 4.80       9\n",
              " 6.00      17\n",
              " 6.86       3\n",
              " 8.00      13\n",
              " 9.00       1\n",
              " 9.60       4\n",
              " 10.29      1\n",
              " 12.00     18\n",
              " 16.00      5\n",
              " 18.00      1\n",
              " 24.00     28\n",
              " 30.00      1\n",
              " 32.00      1\n",
              " 36.00      2\n",
              " 48.00      8\n",
              " 72.00      1\n",
              " 360.00     1\n",
              "Name: tempo_por_morte, dtype: int64"
            ]
          },
          "metadata": {},
          "execution_count": 21
        }
      ]
    },
    {
      "cell_type": "code",
      "metadata": {
        "colab": {
          "base_uri": "https://localhost:8080/"
        },
        "id": "TgTAvdib5ZvV",
        "outputId": "614c6a09-6e92-4926-c1e4-9dcaad530959"
      },
      "source": [
        "a.sort_values(ascending=False).head(10)"
      ],
      "execution_count": 22,
      "outputs": [
        {
          "output_type": "execute_result",
          "data": {
            "text/plain": [
              "tempo_por_morte\n",
              "24.00    28\n",
              "12.00    18\n",
              "6.00     17\n",
              "8.00     13\n",
              "4.80      9\n",
              "3.00      9\n",
              "4.00      8\n",
              "2.67      8\n",
              "48.00     8\n",
              "3.43      8\n",
              "Name: tempo_por_morte, dtype: int64"
            ]
          },
          "metadata": {},
          "execution_count": 22
        }
      ]
    },
    {
      "cell_type": "markdown",
      "metadata": {
        "id": "0aHY3h-VP6UO"
      },
      "source": [
        "Acima está um agrupamento dos dados da coluna 'tempo_por_morte' e por ela podemos ver os outliers e aonde está a maior concentração dos pontos, o que nos dá a oportunidade de verificar os valores da mediana e os pontos que podemos considerar como outliers: 360, valor bom para manter a mortalidade da pandemia baixa, pois, para o valor máximo, significa que 360 horas se passaram antes de haver qualquer morte pela pandemia ou 360 horas entre uma morte ou outra.\n",
        "\n"
      ]
    },
    {
      "cell_type": "markdown",
      "metadata": {
        "id": "B99FV3dHzvHc"
      },
      "source": [
        "**3 - Correlação**"
      ]
    },
    {
      "cell_type": "markdown",
      "metadata": {
        "id": "6fiRdlEGa-on"
      },
      "source": [
        "A seguir temos a correlação entre as colunas da base de dados 'bd', utilizando a biblioteca 'seaborn' e o comando 'heatmap()' conseguimos ver de forma mais clara quais correlações são altas, baixas ou inexistentes por meio das cores. "
      ]
    },
    {
      "cell_type": "code",
      "metadata": {
        "colab": {
          "base_uri": "https://localhost:8080/",
          "height": 439
        },
        "id": "UbEOBn5Idh-W",
        "outputId": "9b4e0ff1-57bc-4967-8410-c758101975ae"
      },
      "source": [
        "import seaborn as sns\n",
        "\n",
        "sns.heatmap(bd.corr(),  vmin=-1, vmax=1, center=0, annot = True, cmap= 'coolwarm')"
      ],
      "execution_count": 23,
      "outputs": [
        {
          "output_type": "execute_result",
          "data": {
            "text/plain": [
              "<matplotlib.axes._subplots.AxesSubplot at 0x7f3051daae10>"
            ]
          },
          "metadata": {},
          "execution_count": 23
        },
        {
          "output_type": "display_data",
          "data": {
            "text/plain": [
              "<Figure size 432x288 with 2 Axes>"
            ],
            "image/png": "[encoded data removed]"
          },
          "metadata": {
            "needs_background": "light"
          }
        }
      ]
    },
    {
      "cell_type": "markdown",
      "metadata": {
        "id": "LcN_3qcqm9Rr"
      },
      "source": [
        "Acima podemos ver que a coluna 'estimated_population' possui correlação inexistente com as outras colunas e isso ocorre, pois seus valores são constantes, ou seja, mesmo que as outras colunas subam ou desçam, ela não vai se alterar, além dessa, a menor correlação existente ocorre entre as colunas 'deaths' e 'mortes_por_hora', o que de início é estranho, pois a segunda depende da primeira, porém a coluna 'mortes_por_hora' é calculada, por meio da diferença entre os registros da coluna 'deaths' dividida pela diferença multiplicada por 24 da coluna 'dias_corridos', ou seja, mesmo que a coluna 'deaths' aumente de valor, o que vai importar é o quanto aumentou e não se aumentou ou não, logo a correção entre as duas colunas é de -0.0081, baixa, bem como a correlação das colunas 'mortes_por_hora' com a coluna 'dias_corridos' que é a segunda mais baixa com - 0.016."
      ]
    },
    {
      "cell_type": "markdown",
      "metadata": {
        "id": "hhWoSGrttO28"
      },
      "source": [
        "**4 - Estruturas de repetição e seleção**\n",
        "\n",
        "Além do que já foi utilizado de estruturas de repetição e seleção nos tópicos acima, abaixo há uma célula interativa, que nos trará algumas informações sobre o tempo entre mortes geral da pandemia, ou seja, o tempo entre uma morte e outra ao contabilizarmos toda a pandemia ou alguns meses.\n",
        "\n",
        "Abaixo também há a função 'nomemes(mes)' que identifica o nome do mês em relação ao seu número entre 1 e 12."
      ]
    },
    {
      "cell_type": "code",
      "metadata": {
        "id": "wdT9FRq3DM3W"
      },
      "source": [
        "def nomemes(x):\n",
        "  lista = ['Janeiro', 'Fevereiro', 'Março', 'Abril', 'Maio', 'Junho', 'Julho', 'Agosto', 'Setembro', 'Outubro', 'Novembro', 'Dezembro']\n",
        "  return lista[x-1]"
      ],
      "execution_count": 24,
      "outputs": []
    },
    {
      "cell_type": "code",
      "metadata": {
        "colab": {
          "base_uri": "https://localhost:8080/"
        },
        "id": "Awbw0CS-7muR",
        "outputId": "d2df6d71-fa98-4fef-88a7-d55dcdc0a3b8"
      },
      "source": [
        "escolha = 4\n",
        "while escolha != 0:\n",
        "  escolha = 4\n",
        "  while escolha not in [1,2,3,0]:\n",
        "    escolha = int(input('Escolha uma opção:\\n1 - Tempo entre Mortes geral da pandemia, do início ao momento atual\\n2 - Tempo entre Mortes Mensal\\n3 - Tempo entre Mortes em Períodos Mensais\\n0 - Sair do Programa\\nEscolha: '))\n",
        "  if escolha == 1:\n",
        "    x = bd.deaths.max()-bd.deaths.min()\n",
        "    y = bd.dias_corridos.max()*24\n",
        "    z = x / y\n",
        "    w = 1/z\n",
        "    print()\n",
        "    print(f'O tempo entre mortes da pandemia como um todo é {w:.2f}.\\nOu seja, em média, a cada {w // 1:.0f} horas e {w % 1 * 60:.0f} minutos ocorreu uma morte em São Bernardo do Campo devido ao Covid 19.')\n",
        "    print()\n",
        "  elif escolha == 2:\n",
        "    print()\n",
        "    mes = int(input(f'Escolha um mês entre {bd.Mes.min()} e {bd.Mes.max()}: '))\n",
        "    bdmes = bd[bd.Mes == mes]\n",
        "    mortes_mes = bdmes['deaths'].max() - bdmes['deaths'].min()\n",
        "    dias_mes = bdmes['dias_corridos'].max() - bdmes['dias_corridos'].min() + 1\n",
        "    mortes_hora = mortes_mes/dias_mes/24\n",
        "    horas_morte = 1/ mortes_hora\n",
        "    print(f'\\nO tempo entre mortes da pandemia para o mês de {nomemes(mes)} é {horas_morte:.2f}.\\nOu seja, em média, no mês de {nomemes(mes)} a cada {horas_morte // 1:.0f} horas e {horas_morte % 1 * 60:.0f} minutos ocorreu uma morte em São Bernardo do Campo devido ao Covid 19.')\n",
        "    print()\n",
        "  elif escolha == 3:\n",
        "      mes1 = int(input(f'\\nEscolha um mês entre {bd.Mes.min()} e {bd.Mes.max()}: '))\n",
        "      mes2 = int(input(f'Escolha outro mês entre {bd.Mes.min()} e {bd.Mes.max()}: '))\n",
        "      while mes2 == mes1:\n",
        "        mes2 = int(input(f'Escolha outro mês entre {bd.Mes.min()} e {bd.Mes.max()}: '))\n",
        "      if mes1 > mes2:\n",
        "        mestroca = mes1\n",
        "        mes1 = mes2\n",
        "        mes2 = mestroca\n",
        "      bdmes1 = bd[bd.Mes == mes1]\n",
        "      bdmes2 = bd[bd.Mes == mes2]\n",
        "      print()\n",
        "      mortes_mes = bdmes2['deaths'].max() - bdmes1['deaths'].min()\n",
        "      dias_mes = bdmes2['dias_corridos'].max() - bdmes1['dias_corridos'].min() + 1\n",
        "      mortes_hora = mortes_mes/dias_mes/24\n",
        "      horas_morte = 1/ mortes_hora\n",
        "      print(f'O tempo entre mortes da pandemia no perído de {nomemes(mes1)} a {nomemes(mes2)} é {horas_morte:.2f}.\\nOu seja, em média, a cada {horas_morte // 1:.0f} horas e {horas_morte % 1 * 60:.0f} minutos ocorreu uma morte em São Bernardo do Campo devido ao Covid 19.')\n",
        "      print()\n",
        "print('----- PROGRAMA ENCERRADO -----')"
      ],
      "execution_count": 25,
      "outputs": [
        {
          "output_type": "stream",
          "name": "stdout",
          "text": [
            "Escolha uma opção:\n",
            "1 - Tempo entre Mortes geral da pandemia, do início ao momento atual\n",
            "2 - Tempo entre Mortes Mensal\n",
            "3 - Tempo entre Mortes em Períodos Mensais\n",
            "0 - Sair do Programa\n",
            "Escolha: 1\n",
            "\n",
            "O tempo entre mortes da pandemia como um todo é 6.01.\n",
            "Ou seja, em média, a cada 6 horas e 0 minutos ocorreu uma morte em São Bernardo do Campo devido ao Covid 19.\n",
            "\n",
            "Escolha uma opção:\n",
            "1 - Tempo entre Mortes geral da pandemia, do início ao momento atual\n",
            "2 - Tempo entre Mortes Mensal\n",
            "3 - Tempo entre Mortes em Períodos Mensais\n",
            "0 - Sair do Programa\n",
            "Escolha: 2\n",
            "\n",
            "Escolha um mês entre 3.0 e 11.0: 8\n",
            "\n",
            "O tempo entre mortes da pandemia para o mês de Agosto é 4.96.\n",
            "Ou seja, em média, no mês de Agosto a cada 4 horas e 58 minutos ocorreu uma morte em São Bernardo do Campo devido ao Covid 19.\n",
            "\n",
            "Escolha uma opção:\n",
            "1 - Tempo entre Mortes geral da pandemia, do início ao momento atual\n",
            "2 - Tempo entre Mortes Mensal\n",
            "3 - Tempo entre Mortes em Períodos Mensais\n",
            "0 - Sair do Programa\n",
            "Escolha: 3\n",
            "\n",
            "Escolha um mês entre 3.0 e 11.0: 8\n",
            "Escolha outro mês entre 3.0 e 11.0: 9\n",
            "\n",
            "O tempo entre mortes da pandemia no perído de Agosto a Setembro é 5.12.\n",
            "Ou seja, em média, a cada 5 horas e 7 minutos ocorreu uma morte em São Bernardo do Campo devido ao Covid 19.\n",
            "\n",
            "Escolha uma opção:\n",
            "1 - Tempo entre Mortes geral da pandemia, do início ao momento atual\n",
            "2 - Tempo entre Mortes Mensal\n",
            "3 - Tempo entre Mortes em Períodos Mensais\n",
            "0 - Sair do Programa\n",
            "Escolha: 0\n",
            "----- PROGRAMA ENCERRADO -----\n"
          ]
        }
      ]
    },
    {
      "cell_type": "markdown",
      "metadata": {
        "id": "LXrtsgQaopyg"
      },
      "source": [
        "Na célula interativa acima é possível obter, de maneira simples, dados semelhantes aos da coluna 'tempo_por_morte', com a diferença de ser em períodos maiores. Esse código foi feito utilizando estruturas de repetição 'while', bem como estruturas de seleção 'if' e 'elif', o 'while' foi utilizado para manter o programa funcionando até a seleção da opção de número 0, e as ferramentas de seleção foram utilizadas para selecionar as ações que deveriam ser feitas, conforme a opção selecionada no Menu mantido pelo 'While'."
      ]
    },
    {
      "cell_type": "markdown",
      "metadata": {
        "id": "D9JCEOowq_f2"
      },
      "source": [
        "**5 - Gráficos**\n",
        "\n",
        "Abaixo veremos alguns gráficos para facilitarmos a visualização do que foi apresentado até agora.\n"
      ]
    },
    {
      "cell_type": "code",
      "metadata": {
        "colab": {
          "base_uri": "https://localhost:8080/",
          "height": 265
        },
        "id": "LBS8nxnegS3k",
        "outputId": "672620a2-31c6-4dcc-e056-082f57b1ff02"
      },
      "source": [
        "bdtmor = bd[['tempo_por_morte','mortes_por_hora']].copy()\n",
        "bdtmor['tempo_por_morte'] = round(1/bdtmor['mortes_por_hora'],2)\n",
        "bdtmorg = bdtmor.groupby('tempo_por_morte')['tempo_por_morte'].count()\n",
        "bdtmorg.plot(kind='pie')"
      ],
      "execution_count": 26,
      "outputs": [
        {
          "output_type": "execute_result",
          "data": {
            "text/plain": [
              "<matplotlib.axes._subplots.AxesSubplot at 0x7f304eecee50>"
            ]
          },
          "metadata": {},
          "execution_count": 26
        },
        {
          "output_type": "display_data",
          "data": {
            "text/plain": [
              "<Figure size 432x288 with 1 Axes>"
            ],
            "image/png": "[encoded data removed]"
          },
          "metadata": {}
        }
      ]
    },
    {
      "cell_type": "markdown",
      "metadata": {
        "id": "kSqnOmHo-QBC"
      },
      "source": [
        "Aqui temos um gráfico do tipo pizza, que possui muitos dados diferentes, logo a visibilidade da torta piora, porém é possível localizar os maiores valores: inf, 24, 12, 6 e 8.\n",
        "\n",
        "Ele foi feito com os comandos 'base_de_dados.plot(kind=\"pie\")', 'groupby()', 'count()' e 'round()', que servem para, respectivamente, plotar um gráfico de setores, agrupar informações, contar registros e arredondar números."
      ]
    },
    {
      "cell_type": "code",
      "metadata": {
        "colab": {
          "base_uri": "https://localhost:8080/",
          "height": 362
        },
        "id": "etN20iMJ86v0",
        "outputId": "0e9a6700-cf02-4eea-e512-26b792003c66"
      },
      "source": [
        "import matplotlib.pyplot as plt\n",
        "listax = []\n",
        "listay = []\n",
        "listaxnome = []\n",
        "x = bd.deaths.max()-bd.deaths.min()\n",
        "y = bd.dias_corridos.max()*24\n",
        "z = x / y\n",
        "w = 1/z\n",
        "for a in range(int(bd.Mes.min()),int(bd.Mes.max()+1)):\n",
        "  mes = a\n",
        "  bdbarras = bd[bd.Mes == mes].copy()\n",
        "  mortes_mes = bdbarras['deaths'].max() - bdbarras['deaths'].min()\n",
        "  dias_mes = bdbarras['dias_corridos'].max() - bdbarras['dias_corridos'].min() + 1\n",
        "  mortes_hora = mortes_mes/(dias_mes*24)\n",
        "  horas_morte = 1/ mortes_hora\n",
        "  listax.append(a)\n",
        "  listaxnome.append(nomemes(a))\n",
        "  listay.append(horas_morte)\n",
        "plt.grid()\n",
        "plt.xticks(listax, listaxnome, rotation = 60)\n",
        "plt.xlabel('Meses',fontsize=16)\n",
        "plt.ylabel('Horas entre as mortes - mensal',fontsize=16)\n",
        "plt.title('Horas entre as Mortes X Meses',fontsize=20)\n",
        "plt.bar(listax,listay,label = 'Horas entre mortes')\n",
        "plt.plot([3,11],[w,w],color='red',label='Horas entre mortes da pandemia toda')\n",
        "plt.legend(loc='upper right')"
      ],
      "execution_count": 28,
      "outputs": [
        {
          "output_type": "execute_result",
          "data": {
            "text/plain": [
              "<matplotlib.legend.Legend at 0x7f304ed2e4d0>"
            ]
          },
          "metadata": {},
          "execution_count": 28
        },
        {
          "output_type": "display_data",
          "data": {
            "text/plain": [
              "<Figure size 432x288 with 1 Axes>"
            ],
            "image/png": "[encoded data removed]"
          },
          "metadata": {
            "needs_background": "light"
          }
        }
      ]
    },
    {
      "cell_type": "markdown",
      "metadata": {
        "id": "49eqyfmFTViV"
      },
      "source": [
        "O gráfico acima nos traz as informações mensais de quanto tempo, em horas, se passa entre cada morte dentro de um mês. Seus dados são iguais aos descobertos no programa interativo, a linha vermelha é o valor de horas entre mortes para a pandemia em um todo, encontrado na primeira opção da célula interativa, já as barras em azul se igualam aos resultados da segunda opção, só que ao invés de ter que visualizar dado por dado, digitando o mês desejado, podemos obter tudo de uma única vez.\n",
        "\n",
        "No gráfico podemos ver como o tempo entre mortes se comportou mês a mês e por ele podemos confirmar algo que já foi verificado no projeto em grupo sobre o pior momento da pandemia até agora, que foi em julho, pois nele o tempo entre as mortes é menor, ou seja, mais mortes em menos tempo. Após julho verificamos um aumento no tempo, o que indica uma melhorá na situação, ao menos no tocante tratamento da doença, evitando assim mais mortes.\n",
        "\n",
        "E o outlier do gráfico é o mês de Março e isso ocorre, pois o mês de Março é o início da pandemia e nas duas semanas do mês (os registros da base de dados começaram no dia 16-03-2020) presentes na base de dados poucas mortes ocorreram, logo o valor do tempo entre mortes ficou muito alto.\n",
        "\n",
        "Ele foi feito por meio dos comandos 'plt.bar()', 'plt.grid()', 'plt.xticks()', 'plt.xlabel()', 'plt.ylabel()', 'plt.title()' e 'plt.legend()' da biblioteca 'matplotlib.pyplot' e servem para plotar e configurar o gráfico."
      ]
    },
    {
      "cell_type": "markdown",
      "metadata": {
        "id": "zijWe3FsqsOY"
      },
      "source": [
        "\n",
        "## Trabalhos Futuros:\n",
        "\n",
        "Acredito que a parte de gráficos poderia ser melhor trabalhada, pois o gráfico de setor está com muitos dados e isso dificultou sua visualização, portanto gostaria de melhorá - lo, de forma que os dados que possuíssem apenas uma ocorrência aparecessem juntos em um setor chamado 'outros'."
      ]
    },
    {
      "cell_type": "markdown",
      "metadata": {
        "id": "N-EXtTukX93H"
      },
      "source": [
        "## Conclusão\n",
        "\n",
        "Em conclusão, o projeto conseguiu atender as expectativas, pois foi possível entender a situação do tempo entre mortes durante a pandemia, descobrimos que a maioria dos dados estão situados na faixa de 24 horas ou menos de tempo, uma faixa de dados que pode ser considerada o final dos valores médios e o início dos valores baixos, afinal uma pessoa falecer ao dia na cidade de São Bernardo do Campo com uma população um pouco maior que 800 mil habitantes pode ser considerado um valor baixo, porém se extrapolarmos isso para os dias em que mais de 1 pessoa morrer por dia, ou para o estado de São Paulo ou para o Brasil todo, os dados podem se tornar alarmantes.\n",
        "\n",
        "Além disso, descobrimos que houveram muitos dias, nos quais o tempo foi caracterizado como 'inf' de infinito, pois naquele período/registro não houve caso de mortes, logo esse valor se tornou a moda, também foi possível verificar que o tempo entre mortes de toda pandemia do início até hoje foi de 6 horas aproximadamente e que a pandemia teve seu valor mais baixo no mês de julho e que a partir daí seu período de tempo entre mortes começou a melhorar, ou seja, aumentar.\n",
        "\n",
        "Concluindo, o projeto foi um sucesso e informações interessantes foram extraídas por meio dele, obviamente há o que melhorar, mas com o que descobrimos aqui, será possível entender melhor a trajetória que a Covid 19 traçou e ainda irá traçar na cidade de São Bernardo do Campo."
      ]
    },
    {
      "cell_type": "markdown",
      "metadata": {
        "id": "5J7_yS3TqtbK"
      },
      "source": [
        "## Referências utilizadas\n",
        "\n",
        "1 - (brasil.io) \"COVID-19\": boletins informativos e casos do coronavírus por município por dia. \n",
        "Disponível em: https://brasil.io/dataset/covid19/caso/.\n",
        "Acesso em: 28 nov. 2020."
      ]
    }
  ]
}